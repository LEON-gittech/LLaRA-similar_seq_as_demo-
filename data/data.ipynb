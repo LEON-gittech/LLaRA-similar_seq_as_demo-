{
 "cells": [
  {
   "cell_type": "code",
   "execution_count": 1,
   "metadata": {},
   "outputs": [],
   "source": [
    "import pandas as pd"
   ]
  },
  {
   "cell_type": "code",
   "execution_count": 12,
   "metadata": {},
   "outputs": [
    {
     "name": "stdout",
     "output_type": "stream",
     "text": [
      "                                                  seq  len_seq       next  \\\n",
      "0   [(704, 5), (155, 3), (80, 4), (698, 4), (745, ...       10     (3, 4)   \n",
      "1   [(1305, 5), (135, 4), (1125, 5), (1124, 5), (2...       10   (132, 5)   \n",
      "2   [(1030, 5), (394, 3), (104, 3), (779, 4), (103...       10   (671, 3)   \n",
      "3   [(537, 4), (293, 4), (244, 3), (287, 5), (524,...       10    (21, 5)   \n",
      "4   [(11, 5), (198, 5), (192, 5), (184, 5), (640, ...       10   (340, 3)   \n",
      "..                                                ...      ...        ...   \n",
      "90  [(1059, 4), (547, 3), (382, 3), (202, 4), (442...       10   (196, 4)   \n",
      "91  [(1199, 4), (964, 4), (957, 3), (855, 4), (81,...       10   (142, 4)   \n",
      "92  [(470, 3), (214, 3), (275, 3), (379, 4), (948,...       10   (248, 3)   \n",
      "93  [(164, 5), (169, 5), (706, 5), (381, 5), (1120...       10   (681, 3)   \n",
      "94  [(1060, 4), (219, 4), (472, 3), (1151, 3), (10...       10  (1282, 3)   \n",
      "\n",
      "                                     movie_names_only  \\\n",
      "0   [House of the Spirits, The (1993), Dirty Danci...   \n",
      "1   [National Lampoon's Senior Trip (1995), 2001: ...   \n",
      "2   [Beverly Hillbillies, The (1993), Radioland Mu...   \n",
      "3   [My Own Private Idaho (1991), Donnie Brasco (1...   \n",
      "4   [Seven (Se7en) (1995), Nikita (La Femme Nikita...   \n",
      "..                                                ...   \n",
      "90  [Don't Be a Menace to South Central While Drin...   \n",
      "91  [Cemetery Man (Dellamorte Dellamore) (1994), M...   \n",
      "92  [Tombstone (1993), Pink Floyd - The Wall (1982...   \n",
      "93  [Abyss, The (1989), Wrong Trousers, The (1993)...   \n",
      "94  [Adventures of Pinocchio, The (1996), Nightmar...   \n",
      "\n",
      "                                             seq_only  \\\n",
      "0   [704, 155, 80, 698, 745, 95, 1403, 202, 731, 432]   \n",
      "1   [1305, 135, 1125, 1124, 240, 605, 477, 485, 52...   \n",
      "2   [1030, 394, 104, 779, 1036, 66, 446, 1029, 451...   \n",
      "3   [537, 293, 244, 287, 524, 514, 922, 602, 172, 97]   \n",
      "4   [11, 198, 192, 184, 640, 581, 653, 432, 356, 666]   \n",
      "..                                                ...   \n",
      "90  [1059, 547, 382, 202, 442, 227, 175, 184, 430,...   \n",
      "91  [1199, 964, 957, 855, 81, 15, 1265, 1170, 629,...   \n",
      "92  [470, 214, 275, 379, 948, 42, 190, 918, 257, 256]   \n",
      "93  [164, 169, 706, 381, 1120, 528, 743, 288, 293,...   \n",
      "94  [1060, 219, 472, 1151, 1046, 369, 925, 475, 22...   \n",
      "\n",
      "                                     movie_embeddings  most_similar_seq_index  \\\n",
      "0   [-0.04578537, 0.050216097, -0.04009142, 0.0040...                       4   \n",
      "1   [-0.04719867, 0.017843362, -0.015032774, 0.013...                      21   \n",
      "2   [-0.06387466, 0.02771371, -0.03948658, -0.0078...                       5   \n",
      "3   [-0.040997818, 0.014861169, -0.032643072, -0.0...                      25   \n",
      "4   [-0.05878972, 0.032049313, -0.033602327, 0.013...                       0   \n",
      "..                                                ...                     ...   \n",
      "90  [-0.060529053, 0.038937546, -0.037852652, 0.00...                      22   \n",
      "91  [-0.07670109, 0.028669104, -0.021529518, -0.01...                       6   \n",
      "92  [-0.05765421, 0.027246807, -0.06718668, 0.0050...                      49   \n",
      "93  [-0.0458989, 0.03806885, -0.027392104, 0.00669...                      72   \n",
      "94  [-0.07029432, 0.03095391, -0.043752827, 0.0305...                      85   \n",
      "\n",
      "                                     most_similar_seq most_similar_seq_next  \\\n",
      "0   [(11, 5), (198, 5), (192, 5), (184, 5), (640, ...              (340, 3)   \n",
      "1   [(1049, 3), (661, 4), (615, 4), (181, 4), (503...              (229, 4)   \n",
      "2   [(21, 5), (10, 3), (422, 3), (27, 4), (317, 4)...              (154, 5)   \n",
      "3   [(90, 3), (240, 3), (486, 5), (171, 4), (514, ...              (834, 5)   \n",
      "4   [(704, 5), (155, 3), (80, 4), (698, 4), (745, ...                (3, 4)   \n",
      "..                                                ...                   ...   \n",
      "90  [(1062, 5), (516, 5), (442, 4), (184, 4), (217...              (551, 3)   \n",
      "91  [(27, 4), (1403, 5), (432, 5), (509, 5), (499,...              (511, 4)   \n",
      "92  [(14, 4), (923, 4), (275, 5), (627, 4), (470, ...              (822, 3)   \n",
      "93  [(281, 4), (470, 4), (762, 4), (6, 4), (684, 4...              (288, 3)   \n",
      "94  [(49, 5), (249, 5), (507, 3), (6, 5), (116, 3)...              (236, 4)   \n",
      "\n",
      "                                most_similar_seq_name  \\\n",
      "0   [Seven (Se7en) (1995), Nikita (La Femme Nikita...   \n",
      "1   [House Arrest (1996), High Noon (1952), 39 Ste...   \n",
      "2   [Muppet Treasure Island (1996), Richard III (1...   \n",
      "3   [So I Married an Axe Murderer (1993), Beavis a...   \n",
      "4   [House of the Spirits, The (1993), Dirty Danci...   \n",
      "..                                                ...   \n",
      "90  [Four Days in September (1997), Local Hero (19...   \n",
      "91  [Bad Boys (1995), Caro Diario (Dear Diary) (19...   \n",
      "92  [Postino, Il (1994), Raise the Red Lantern (19...   \n",
      "93  [River Wild, The (1994), Tombstone (1993), Bea...   \n",
      "94  [I.Q. (1994), Austin Powers: International Man...   \n",
      "\n",
      "                      most_similar_seq_next_name  \n",
      "0                           Boogie Nights (1997)  \n",
      "1     Star Trek III: The Search for Spock (1984)  \n",
      "2            Monty Python's Life of Brian (1979)  \n",
      "3   Halloween: The Curse of Michael Myers (1995)  \n",
      "4                              Four Rooms (1995)  \n",
      "..                                           ...  \n",
      "90                      Lord of Illusions (1995)  \n",
      "91                     Lawrence of Arabia (1962)  \n",
      "92                                  Faces (1968)  \n",
      "93                                 Scream (1996)  \n",
      "94                           Citizen Ruth (1996)  \n",
      "\n",
      "[95 rows x 11 columns]\n"
     ]
    }
   ],
   "source": [
    "data = pd.read_pickle(\"/mnt/bn/data-tns-live-llm/leon/LLaRA-similar_seq_as_demo-/Sequence_analysis/Processed_data.df\")\n",
    "print(data)"
   ]
  },
  {
   "cell_type": "code",
   "execution_count": 10,
   "metadata": {},
   "outputs": [
    {
     "name": "stdout",
     "output_type": "stream",
     "text": [
      "[(1682, 0), (1682, 0), (1682, 0), (1682, 0), (1682, 0), (1682, 0), (1682, 0), (1682, 0), (1682, 0), (1682, 0)]\n",
      "[(299, 5), (321, 5), (1682, 0), (1682, 0), (1682, 0), (1682, 0), (1682, 0), (1682, 0), (1682, 0), (1682, 0)]\n",
      "[(747, 3), (257, 5), (49, 5), (180, 5), (6, 5), (256, 5), (116, 3), (1682, 0), (1682, 0), (1682, 0)]\n"
     ]
    }
   ],
   "source": [
    "print(data[\"seq\"][0])\n",
    "print(data[\"seq\"][2])\n",
    "print(data[\"seq\"][50799])"
   ]
  },
  {
   "cell_type": "code",
   "execution_count": null,
   "metadata": {},
   "outputs": [],
   "source": []
  }
 ],
 "metadata": {
  "kernelspec": {
   "display_name": "Python 3.9.2 64-bit",
   "language": "python",
   "name": "python3"
  },
  "language_info": {
   "codemirror_mode": {
    "name": "ipython",
    "version": 3
   },
   "file_extension": ".py",
   "mimetype": "text/x-python",
   "name": "python",
   "nbconvert_exporter": "python",
   "pygments_lexer": "ipython3",
   "version": "3.9.2"
  },
  "orig_nbformat": 4,
  "vscode": {
   "interpreter": {
    "hash": "31f2aee4e71d21fbe5cf8b01ff0e069b9275f58929596ceb00d14d90e3e16cd6"
   }
  }
 },
 "nbformat": 4,
 "nbformat_minor": 2
}
