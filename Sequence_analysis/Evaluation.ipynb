{
 "cells": [
  {
   "cell_type": "code",
   "execution_count": 15,
   "id": "b988ab94-76b8-4584-abfc-c1e5cf86240c",
   "metadata": {},
   "outputs": [],
   "source": [
    "import pandas as pd\n",
    "import numpy as np\n",
    "from dtw import dtw\n",
    "\n",
    "# 定义 safe_eval 函数\n",
    "def safe_eval(val):\n",
    "    if isinstance(val, str):\n",
    "        return eval(val)\n",
    "    return val\n",
    "\n",
    "# 定义 LCS 函数\n",
    "def lcs(X, Y):\n",
    "    m = len(X)\n",
    "    n = len(Y)\n",
    "    L = [[0] * (n + 1) for _ in range(m + 1)]\n",
    "    \n",
    "    for i in range(m + 1):\n",
    "        for j in range(n + 1):\n",
    "            if i == 0 or j == 0:\n",
    "                L[i][j] = 0\n",
    "            elif X[i-1] == Y[j-1]:  # 只考虑电影ID\n",
    "                L[i][j] = L[i-1][j-1] + 1\n",
    "            else:\n",
    "                L[i][j] = max(L[i-1][j], L[i][j-1])\n",
    "    \n",
    "    return L[m][n]\n",
    "\n",
    "# 定义 Sequence Order Preservation 函数\n",
    "def sequence_order_preservation(seq, most_similar_seq):\n",
    "    # 提取电影ID\n",
    "    seq_ids = [item[0] for item in seq]\n",
    "    most_similar_seq_ids = [item[0] for item in most_similar_seq]\n",
    "    \n",
    "    lcs_length = lcs(seq_ids, most_similar_seq_ids)\n",
    "    if min(len(seq_ids), len(most_similar_seq_ids)) == 0:\n",
    "        return 0\n",
    "    return lcs_length / min(len(seq_ids), len(most_similar_seq_ids))\n",
    "\n",
    "# 定义 DCG 和 nDCG 函数\n",
    "def dcg_at_k(r, k):\n",
    "    \"\"\"计算前k个位置的DCG值\"\"\"\n",
    "    r = np.asfarray(r)[:k]\n",
    "    if r.size:\n",
    "        return r[0] + np.sum(r[1:] / np.log2(np.arange(2, r.size + 1)))\n",
    "    return 0.0\n",
    "\n",
    "def ndcg_at_k(r, k):\n",
    "    \"\"\"计算前k个位置的nDCG值\"\"\"\n",
    "    dcg_max = dcg_at_k(sorted(r, reverse=True), k)\n",
    "    if not dcg_max:\n",
    "        return 0.0\n",
    "    return dcg_at_k(r, k) / dcg_max\n",
    "\n",
    "# 解析 seq 和 most_similar_seq 列\n",
    "def parse_sequences(df):\n",
    "    df['seq'] = df['seq'].apply(safe_eval)\n",
    "    df['most_similar_seq'] = df['most_similar_seq'].apply(safe_eval)\n",
    "    return df\n",
    "\n",
    "# 计算 Sequence Order Preservation\n",
    "def calculate_sequence_order_preservation(df):\n",
    "    df['sequence_order_preservation'] = df.apply(\n",
    "        lambda row: sequence_order_preservation(row['seq'], row['most_similar_seq']), axis=1)\n",
    "    return df\n",
    "\n",
    "# 计算 nDCG@1, nDCG@2, nDCG@3\n",
    "def calculate_ndcg(df):\n",
    "    k_list = [1, 2, 3]\n",
    "    for k in k_list:\n",
    "        df[f'ndcg@{k}'] = df.apply(lambda row: ndcg_at_k([rating for _, rating in row['most_similar_seq']], k), axis=1)\n",
    "    return df\n",
    "\n",
    "# 计算 DTW\n",
    "def calculate_dtw(seq, most_similar_seq):\n",
    "    # 提取电影ID\n",
    "    seq_ids = np.array([item[0] for item in seq]).reshape(-1, 1)\n",
    "    most_similar_seq_ids = np.array([item[0] for item in most_similar_seq]).reshape(-1, 1)\n",
    "    \n",
    "    # 使用欧氏距离计算 DTW\n",
    "    dist, _, _, _ = dtw(seq_ids, most_similar_seq_ids, dist=lambda x, y: np.linalg.norm(x - y, ord=1))\n",
    "    return dist\n",
    "\n",
    "def calculate_dtw_for_df(df):\n",
    "    df['dtw_distance'] = df.apply(\n",
    "        lambda row: calculate_dtw(row['seq'], row['most_similar_seq']), axis=1)\n",
    "    return df\n",
    "\n",
    "# 主函数\n",
    "def main():\n",
    "    # 加载数据\n",
    "    df = pd.read_pickle('/workspace/LLaRA/Sequence_analysis/All-Mini-VS-Llama/AllMini_train_data.df')\n",
    "    \n",
    "    # 解析序列\n",
    "    df = parse_sequences(df)\n",
    "    \n",
    "    # 计算 Sequence Order Preservation\n",
    "    df = calculate_sequence_order_preservation(df)\n",
    "    \n",
    "    # 计算 nDCG@1, nDCG@2, nDCG@3\n",
    "    df = calculate_ndcg(df)\n",
    "    \n",
    "    # 计算 DTW\n",
    "    df = calculate_dtw_for_df(df)\n",
    "    \n",
    "    # 输出结果\n",
    "    print(df[['sequence_order_preservation', 'ndcg@1', 'ndcg@2', 'ndcg@3', 'dtw_distance']])\n",
    "    \n",
    "    # 保存更新后的 DataFrame 到 CSV 文件\n",
    "    df.to_csv('/workspace/LLaRA/Sequence_analysis/All-Mini-VS-Llama/AllMini_train.csv', index=False)\n",
    "\n",
    "# 运行主函数\n",
    "if __name__ == \"__main__\":\n",
    "    main()\n"
   ]
  },
  {
   "cell_type": "code",
   "execution_count": 6,
   "id": "dbd93ac6-86ea-444e-b567-5b627296d4fb",
   "metadata": {},
   "outputs": [
    {
     "name": "stdout",
     "output_type": "stream",
     "text": [
      "Average Metrics:\n",
      "sequence_order_preservation: 0.12315789473684209\n",
      "ndcg@1: 0.834736842105263\n",
      "ndcg@2: 0.8658479532163742\n",
      "ndcg@3: 0.8742713136891715\n",
      "dtw_distance: 2243.7368421052633\n"
     ]
    }
   ],
   "source": [
    "#AllMini_test.csv\n",
    "def main():\n",
    "    # 加载数据\n",
    "    df = pd.read_csv('/workspace/LLaRA/Sequence_analysis/All-Mini-VS-Llama/AllMini_test.csv')\n",
    "    \n",
    "    # 计算各评估指标的平均值\n",
    "    metrics = ['sequence_order_preservation', 'ndcg@1', 'ndcg@2', 'ndcg@3', 'dtw_distance']\n",
    "    averages = {metric: df[metric].mean() for metric in metrics}\n",
    "  \n",
    "    print(\"Average Metrics:\")\n",
    "    for metric, avg in averages.items():\n",
    "        print(f\"{metric}: {avg}\")\n",
    "\n",
    "# 运行主函数\n",
    "if __name__ == \"__main__\":\n",
    "    main()\n"
   ]
  },
  {
   "cell_type": "code",
   "execution_count": 8,
   "id": "e007fb3b-556b-4f85-8c2e-16e5461508f3",
   "metadata": {},
   "outputs": [
    {
     "name": "stdout",
     "output_type": "stream",
     "text": [
      "Average Metrics:\n",
      "sequence_order_preservation: 0.11276595744680849\n",
      "ndcg@1: 0.7936170212765954\n",
      "ndcg@2: 0.8229609929078014\n",
      "ndcg@3: 0.838496200418662\n",
      "dtw_distance: 2410.053191489362\n"
     ]
    }
   ],
   "source": [
    "#AllMini_val.csv\n",
    "def main():\n",
    "    # 加载数据\n",
    "    df = pd.read_csv('/workspace/LLaRA/Sequence_analysis/All-Mini-VS-Llama/AllMini_val.csv')\n",
    "    \n",
    "    # 计算各评估指标的平均值\n",
    "    metrics = ['sequence_order_preservation', 'ndcg@1', 'ndcg@2', 'ndcg@3', 'dtw_distance']\n",
    "    averages = {metric: df[metric].mean() for metric in metrics}\n",
    "  \n",
    "    print(\"Average Metrics:\")\n",
    "    for metric, avg in averages.items():\n",
    "        print(f\"{metric}: {avg}\")\n",
    "\n",
    "# 运行主函数\n",
    "if __name__ == \"__main__\":\n",
    "    main()"
   ]
  },
  {
   "cell_type": "code",
   "execution_count": 10,
   "id": "d074a9b5-deef-487b-b173-ab872fb74f28",
   "metadata": {},
   "outputs": [
    {
     "name": "stdout",
     "output_type": "stream",
     "text": [
      "Average Metrics:\n",
      "sequence_order_preservation: 0.09468085106382977\n",
      "ndcg@1: 0.8239361702127657\n",
      "ndcg@2: 0.8360520094562648\n",
      "ndcg@3: 0.8587564553661037\n",
      "dtw_distance: 2489.031914893617\n"
     ]
    }
   ],
   "source": [
    "#llama_val.csv\n",
    "def main():\n",
    "    # 加载数据\n",
    "    df = pd.read_csv('/workspace/LLaRA/Sequence_analysis/All-Mini-VS-Llama/llama_val.csv')\n",
    "    \n",
    "    # 计算各评估指标的平均值\n",
    "    metrics = ['sequence_order_preservation', 'ndcg@1', 'ndcg@2', 'ndcg@3', 'dtw_distance']\n",
    "    averages = {metric: df[metric].mean() for metric in metrics}\n",
    "  \n",
    "    print(\"Average Metrics:\")\n",
    "    for metric, avg in averages.items():\n",
    "        print(f\"{metric}: {avg}\")\n",
    "\n",
    "# 运行主函数\n",
    "if __name__ == \"__main__\":\n",
    "    main()"
   ]
  },
  {
   "cell_type": "code",
   "execution_count": 12,
   "id": "75acf7ee-3cf3-4d9f-8859-c75366d5db91",
   "metadata": {},
   "outputs": [
    {
     "name": "stdout",
     "output_type": "stream",
     "text": [
      "Average Metrics:\n",
      "sequence_order_preservation: 0.12105263157894738\n",
      "ndcg@1: 0.8305263157894734\n",
      "ndcg@2: 0.8510818713450291\n",
      "ndcg@3: 0.8622960886468778\n",
      "dtw_distance: 2386.7894736842104\n"
     ]
    }
   ],
   "source": [
    "#llama_test.csv\n",
    "def main():\n",
    "    # 加载数据\n",
    "    df = pd.read_csv('/workspace/LLaRA/Sequence_analysis/All-Mini-VS-Llama/llama_test.csv')\n",
    "    \n",
    "    # 计算各评估指标的平均值\n",
    "    metrics = ['sequence_order_preservation', 'ndcg@1', 'ndcg@2', 'ndcg@3', 'dtw_distance']\n",
    "    averages = {metric: df[metric].mean() for metric in metrics}\n",
    "  \n",
    "    print(\"Average Metrics:\")\n",
    "    for metric, avg in averages.items():\n",
    "        print(f\"{metric}: {avg}\")\n",
    "\n",
    "# 运行主函数\n",
    "if __name__ == \"__main__\":\n",
    "    main()"
   ]
  },
  {
   "cell_type": "code",
   "execution_count": 14,
   "id": "111ee42f-fea4-44c8-91b2-532d6380181a",
   "metadata": {},
   "outputs": [
    {
     "name": "stdout",
     "output_type": "stream",
     "text": [
      "Average Metrics:\n",
      "sequence_order_preservation: 0.9007530560917122\n",
      "ndcg@1: 0.8191488272796398\n",
      "ndcg@2: 0.8363906783980481\n",
      "ndcg@3: 0.8498570717353356\n",
      "dtw_distance: 602.7047727671521\n"
     ]
    }
   ],
   "source": [
    "#llama_train.csv\n",
    "def main():\n",
    "    # 加载数据\n",
    "    df = pd.read_csv('/workspace/LLaRA/Sequence_analysis/All-Mini-VS-Llama/llama_train.csv')\n",
    "    \n",
    "    # 计算各评估指标的平均值\n",
    "    metrics = ['sequence_order_preservation', 'ndcg@1', 'ndcg@2', 'ndcg@3', 'dtw_distance']\n",
    "    averages = {metric: df[metric].mean() for metric in metrics}\n",
    "  \n",
    "    print(\"Average Metrics:\")\n",
    "    for metric, avg in averages.items():\n",
    "        print(f\"{metric}: {avg}\")\n",
    "\n",
    "# 运行主函数\n",
    "if __name__ == \"__main__\":\n",
    "    main()"
   ]
  },
  {
   "cell_type": "code",
   "execution_count": null,
   "id": "33d3a3f9-c700-4fef-9214-4edd61321ffb",
   "metadata": {},
   "outputs": [],
   "source": []
  }
 ],
 "metadata": {
  "kernelspec": {
   "display_name": "Python 3 (ipykernel)",
   "language": "python",
   "name": "python3"
  },
  "language_info": {
   "codemirror_mode": {
    "name": "ipython",
    "version": 3
   },
   "file_extension": ".py",
   "mimetype": "text/x-python",
   "name": "python",
   "nbconvert_exporter": "python",
   "pygments_lexer": "ipython3",
   "version": "3.10.9"
  }
 },
 "nbformat": 4,
 "nbformat_minor": 5
}
