{
 "cells": [
  {
   "cell_type": "code",
   "execution_count": 246,
   "metadata": {},
   "outputs": [
    {
     "name": "stdout",
     "output_type": "stream",
     "text": [
      "Loading tokenizer...\n",
      "Tokenizer loaded.\n",
      "Loading model...\n"
     ]
    },
    {
     "data": {
      "application/vnd.jupyter.widget-view+json": {
       "model_id": "c1cf214bf10b470bb7bfa3e7a7f28eff",
       "version_major": 2,
       "version_minor": 0
      },
      "text/plain": [
       "Loading checkpoint shards:   0%|          | 0/4 [00:00<?, ?it/s]"
      ]
     },
     "metadata": {},
     "output_type": "display_data"
    },
    {
     "name": "stdout",
     "output_type": "stream",
     "text": [
      "Model loaded.\n"
     ]
    }
   ],
   "source": [
    "import pickle\n",
    "from typing import Optional\n",
    "import pandas as pd\n",
    "import numpy as np\n",
    "from fastdtw import fastdtw\n",
    "from scipy.spatial.distance import euclidean\n",
    "import torch\n",
    "from transformers import LlamaTokenizer, LlamaModel, AutoModelForCausalLM, LlamaForCausalLM, GenerationConfig, LlamaConfig, AutoTokenizer\n",
    "# 全局加载LLaMA-2-7B模型\n",
    "model_name_or_path = \"/mnt/bn/data-tns-live-llm/leon/datasets/Meta-Llama-3-8B\"\n",
    "\n",
    "print(\"Loading tokenizer...\")\n",
    "tokenizer: Optional[LlamaTokenizer] = AutoTokenizer.from_pretrained(model_name_or_path)\n",
    "# 设置pad_token为eos_token\n",
    "tokenizer.pad_token = tokenizer.eos_token\n",
    "print(\"Tokenizer loaded.\")\n",
    "\n",
    "print(\"Loading model...\")\n",
    "device = torch.device(\"cuda\" if torch.cuda.is_available() else \"cpu\")\n",
    "model: Optional[LlamaForCausalLM] = AutoModelForCausalLM.from_pretrained(model_name_or_path, torch_dtype=torch.bfloat16, output_hidden_states=True)\n",
    "try: model.to(device)\n",
    "except : pass\n",
    "print(\"Model loaded.\")"
   ]
  },
  {
   "cell_type": "code",
   "execution_count": 239,
   "metadata": {},
   "outputs": [],
   "source": [
    "# def calculate_dtw_distance(embedding_seq1, embedding_seq2):\n",
    "#     # 将向量调整为二维数组，以便 fastdtw 正确处理\n",
    "#     embedding_seq1 = embedding_seq1.reshape(-1, 1)\n",
    "#     embedding_seq2 = embedding_seq2.reshape(-1, 1)\n",
    "#     distance, path = fastdtw(embedding_seq1, embedding_seq2, dist=euclidean)\n",
    "#     return distance\n",
    "\n",
    "# def calculate_similarity(df):\n",
    "#     movie_embeddings = get_movie_embeddings(df['movie_names_only'].tolist())\n",
    "#     df['movie_embeddings'] = list(movie_embeddings)\n",
    "#     embeddings = np.stack(df['movie_embeddings'].values)\n",
    "    \n",
    "#     most_similar_indices = []\n",
    "#     for i, embedding_seq1 in enumerate(embeddings):\n",
    "#         min_distance = float('inf')\n",
    "#         most_similar_index = -1\n",
    "#         for j, embedding_seq2 in enumerate(embeddings):\n",
    "#             if i != j:\n",
    "#                 distance = calculate_dtw_distance(embedding_seq1, embedding_seq2)\n",
    "#                 if distance < min_distance:\n",
    "#                     min_distance = distance\n",
    "#                     most_similar_index = j\n",
    "#         most_similar_indices.append(most_similar_index)\n",
    "    \n",
    "#     df['most_similar_seq_index'] = most_similar_indices\n",
    "#     df['most_similar_seq'] = df['most_similar_seq_index'].apply(lambda idx: df.at[idx, 'seq'])\n",
    "#     return df\n",
    "\n",
    "# def add_most_similar_seq_next(df, movie_dict):\n",
    "#     df['most_similar_seq_next'] = df['next'].iloc[df['most_similar_seq_indexs']].values\n",
    "#     df['most_similar_seq_name'] = df['most_similar_seqs'].apply(lambda x: [movie_dict.get(item[0], \"Unknown\") for item in x])\n",
    "#     df['most_similar_seq_next_name'] = df['most_similar_seq_next'].apply(lambda x: movie_dict.get(x[0], \"Unknown\"))\n",
    "#     return df"
   ]
  },
  {
   "cell_type": "code",
   "execution_count": 167,
   "metadata": {},
   "outputs": [],
   "source": [
    "from tqdm import tqdm\n",
    "import json\n",
    "\n",
    "def load_data(file_path):\n",
    "    return pd.read_pickle(file_path)\n",
    "\n",
    "def load_movie_dict(item_file):\n",
    "    item_df = pd.read_csv(item_file, sep='|', header=None, encoding='latin-1', usecols=[0, 1])\n",
    "    item_df.columns = ['movie_id', 'movie_title']\n",
    "    movie_dict = dict(zip(item_df['movie_id'], item_df['movie_title']))\n",
    "    return movie_dict\n",
    "\n",
    "def map_movie_names_only(seq, movie_dict):\n",
    "    return [movie_dict[id] if id in movie_dict else id for (id, rating) in seq]\n",
    "\n",
    "def extract_sequences(df, movie_dict):\n",
    "    df['movie_names_only'] = df['seq'].apply(lambda x: map_movie_names_only(x, movie_dict))\n",
    "    df['seq_only'] = df['seq'].apply(lambda x: [id for (id, rating) in x])\n",
    "    return df\n",
    "\n",
    "def get_movie_embeddings(movie_list):\n",
    "    embeddings = []\n",
    "    max_length = 512  # 设定一个合理的最大长度\n",
    "    for movies in tqdm(movie_list):\n",
    "        movie_string = \" \".join(str(movie) for movie in movies)\n",
    "        inputs = tokenizer(movie_string, return_tensors=\"pt\", padding=True, truncation=True, max_length=max_length)\n",
    "        inputs = {key: value.to(device) for key, value in inputs.items()}\n",
    "        with torch.no_grad():\n",
    "            outputs = model(**inputs)\n",
    "            movie_embedding = outputs.hidden_states[-1].mean(dim=1).squeeze().cpu()\n",
    "        embeddings.append(movie_embedding)\n",
    "    return torch.stack(embeddings)\n",
    "\n",
    "def get_topk_similar_indices(similarity_scores, topK):\n",
    "    print(similarity_scores.shape)\n",
    "    indices = np.argsort(-np.array(similarity_scores.to(torch.float32)))\n",
    "    print(indices.shape)\n",
    "    print(indices[-5:])\n",
    "    topk_indices = np.ones((indices.shape[0], topK))\n",
    "    for i,indice in enumerate(indices):\n",
    "        tmp = indice[indice!=i]\n",
    "        topk_indices[i] = tmp[:topK] # 获取每个向量最相似的topK个索引, 不包含他自己\n",
    "    # topk_indices = topk_indices.to(torch.int)\n",
    "    print(topk_indices.shape)\n",
    "    return topk_indices\n",
    "\n",
    "def get_topK_candidate(df, topK=50):\n",
    "    embeddings = get_movie_embeddings(df['movie_names_only'].tolist())\n",
    "    # df['movie_embeddings'] = list(movie_embeddings)\n",
    "    # embeddings = np.stack(df['movie_embeddings'].values)\n",
    "    similarity_scores = embeddings @ embeddings.T\n",
    "    # 对于每个嵌入向量，找到最相似的topK个嵌入向量的索引\n",
    "    most_similar_indices = np.array(get_topk_similar_indices(similarity_scores, topK)).tolist()\n",
    "    print(type(most_similar_indices))\n",
    "    # 将索引信息添加到DataFrame中\n",
    "    df['most_similar_seq_indexs'] = [json.dumps(most_similar_idxs) for most_similar_idxs in most_similar_indices]\n",
    "    # 根据索引获取最相似的序列\n",
    "    df['most_similar_seqs'] = df['most_similar_seq_indexs'].apply(lambda idxs: [df.at[idx, 'seq'] for idx in json.loads(idxs)])\n",
    "    return df\n",
    "\n",
    "def add_most_similar_seq_next(df, movie_dict):\n",
    "    df['most_similar_seq_next'] = df['most_similar_seq_indexs'].apply(lambda idxs: [df.at[idx, 'next'] for idx in json.loads(idxs)])\n",
    "    df['most_similar_seq_name'] = df['most_similar_seqs'].apply(lambda x: [[movie_dict.get(item[0], \"Unknown\") for item in items] for items in x])\n",
    "    df['most_similar_seq_next_name'] = df['most_similar_seq_next'].apply(lambda x: [movie_dict.get(item[0], \"Unknown\") for item in x])\n",
    "    return df\n",
    "\n",
    "def save_data(df, output_file_path):\n",
    "    df.to_pickle(output_file_path)\n",
    "\n",
    "def process_data(file_path, item_file, output_file_path):\n",
    "    data = load_data(file_path).head(1000)\n",
    "    movie_dict = load_movie_dict(item_file)\n",
    "    df = extract_sequences(data, movie_dict)\n",
    "    df = get_topK_candidate(df)\n",
    "    df = add_most_similar_seq_next(df, movie_dict)\n",
    "    save_data(df, output_file_path)\n",
    "    return df\n"
   ]
  },
  {
   "cell_type": "code",
   "execution_count": 125,
   "metadata": {},
   "outputs": [],
   "source": [
    "file_path = '/mnt/bn/data-tns-live-llm/leon/LLaRA-similar_seq_as_demo-/data/LLaRA/movielens/train_data.df'\n",
    "item_file = '/mnt/bn/data-tns-live-llm/leon/LLaRA-similar_seq_as_demo-/data/LLaRA/movielens/u.item'\n",
    "output_file_path = '/mnt/bn/data-tns-live-llm/leon/LLaRA-similar_seq_as_demo-/data/LLaRA/movielens/similar_val_data.df'"
   ]
  },
  {
   "cell_type": "code",
   "execution_count": 160,
   "metadata": {},
   "outputs": [],
   "source": [
    "data = load_data(file_path).head(1000)\n",
    "movie_dict = load_movie_dict(item_file)\n",
    "df = extract_sequences(data, movie_dict)"
   ]
  },
  {
   "cell_type": "code",
   "execution_count": 168,
   "metadata": {},
   "outputs": [
    {
     "name": "stderr",
     "output_type": "stream",
     "text": [
      "100%|██████████| 1000/1000 [00:17<00:00, 56.93it/s]\n"
     ]
    },
    {
     "name": "stdout",
     "output_type": "stream",
     "text": [
      "torch.Size([1000, 1000])\n",
      "(1000, 1000)\n",
      "[[488 233 437 ... 573 571 572]\n",
      " [488 233 533 ... 570 571 572]\n",
      " [488 233 533 ... 570 571 572]\n",
      " [488 233 533 ... 570 571 572]\n",
      " [488 233 533 ... 570 571 572]]\n",
      "(1000, 50)\n",
      "<class 'list'>\n",
      "hello\n"
     ]
    }
   ],
   "source": [
    "topK = 50\n",
    "embeddings = get_movie_embeddings(df['movie_names_only'].tolist())\n",
    "# df['movie_embeddings'] = list(movie_embeddings)\n",
    "# embeddings = np.stack(df['movie_embeddings'].values)\n",
    "similarity_scores = embeddings @ embeddings.T\n",
    "# 对于每个嵌入向量，找到最相似的topK个嵌入向量的索引\n",
    "most_similar_indices = np.array(get_topk_similar_indices(similarity_scores, topK)).tolist()\n",
    "print(type(most_similar_indices))\n",
    "# 将索引信息添加到DataFrame中\n",
    "df['most_similar_seq_indexs'] = [json.dumps(most_similar_idxs) for most_similar_idxs in most_similar_indices]\n",
    "print(\"hello\")\n",
    "# 根据索引获取最相似的序列\n",
    "df['most_similar_seqs'] = df['most_similar_seq_indexs'].apply(lambda idxs: [df.at[idx, 'seq'] for idx in json.loads(idxs)])"
   ]
  },
  {
   "cell_type": "code",
   "execution_count": 170,
   "metadata": {},
   "outputs": [],
   "source": [
    "movie_dict = load_movie_dict(item_file)\n",
    "tmp = add_most_similar_seq_next(df, movie_dict)\n",
    "save_data(tmp, output_file_path)"
   ]
  },
  {
   "cell_type": "code",
   "execution_count": 171,
   "metadata": {},
   "outputs": [
    {
     "name": "stdout",
     "output_type": "stream",
     "text": [
      "                                                   seq  len_seq       next  \\\n",
      "0    [(1682, 0), (1682, 0), (1682, 0), (1682, 0), (...        1   (299, 5)   \n",
      "1    [(299, 5), (1682, 0), (1682, 0), (1682, 0), (1...        1   (321, 5)   \n",
      "2    [(299, 5), (321, 5), (1682, 0), (1682, 0), (16...        2   (290, 4)   \n",
      "3    [(299, 5), (321, 5), (290, 4), (1682, 0), (168...        3   (297, 3)   \n",
      "4    [(299, 5), (321, 5), (290, 4), (297, 3), (1682...        4   (590, 4)   \n",
      "..                                                 ...      ...        ...   \n",
      "995  [(541, 3), (767, 4), (811, 4), (664, 4), (559,...       10   (131, 5)   \n",
      "996  [(767, 4), (811, 4), (664, 4), (559, 4), (230,...       10   (290, 3)   \n",
      "997  [(811, 4), (664, 4), (559, 4), (230, 4), (1418...       10   (865, 4)   \n",
      "998  [(664, 4), (559, 4), (230, 4), (1418, 5), (122...       10  (1033, 3)   \n",
      "999  [(559, 4), (230, 4), (1418, 5), (1227, 4), (77...       10   (830, 4)   \n",
      "\n",
      "                                      movie_names_only  \\\n",
      "0    [Scream of Stone (Schrei aus Stein) (1991), Sc...   \n",
      "1    [Hoodlum (1997), Scream of Stone (Schrei aus S...   \n",
      "2    [Hoodlum (1997), Mother (1996), Scream of Ston...   \n",
      "3    [Hoodlum (1997), Mother (1996), Fierce Creatur...   \n",
      "4    [Hoodlum (1997), Mother (1996), Fierce Creatur...   \n",
      "..                                                 ...   \n",
      "995  [Mortal Kombat (1995), Addiction, The (1995), ...   \n",
      "996  [Addiction, The (1995), Thirty-Two Short Films...   \n",
      "997  [Thirty-Two Short Films About Glenn Gould (199...   \n",
      "998  [Paris, Texas (1984), Interview with the Vampi...   \n",
      "999  [Interview with the Vampire (1994), Star Trek ...   \n",
      "\n",
      "                                              seq_only  \\\n",
      "0    [1682, 1682, 1682, 1682, 1682, 1682, 1682, 168...   \n",
      "1    [299, 1682, 1682, 1682, 1682, 1682, 1682, 1682...   \n",
      "2    [299, 321, 1682, 1682, 1682, 1682, 1682, 1682,...   \n",
      "3    [299, 321, 290, 1682, 1682, 1682, 1682, 1682, ...   \n",
      "4    [299, 321, 290, 297, 1682, 1682, 1682, 1682, 1...   \n",
      "..                                                 ...   \n",
      "995  [541, 767, 811, 664, 559, 230, 1418, 1227, 770...   \n",
      "996  [767, 811, 664, 559, 230, 1418, 1227, 770, 372...   \n",
      "997  [811, 664, 559, 230, 1418, 1227, 770, 372, 131...   \n",
      "998  [664, 559, 230, 1418, 1227, 770, 372, 131, 290...   \n",
      "999  [559, 230, 1418, 1227, 770, 372, 131, 290, 865...   \n",
      "\n",
      "                               most_similar_seq_indexs  \\\n",
      "0    [555.0, 378.0, 197.0, 798.0, 72.0, 73.0, 1.0, ...   \n",
      "1    [0.0, 798.0, 378.0, 555.0, 197.0, 72.0, 73.0, ...   \n",
      "2    [0.0, 72.0, 197.0, 798.0, 378.0, 555.0, 1.0, 7...   \n",
      "3    [0.0, 378.0, 555.0, 197.0, 72.0, 798.0, 73.0, ...   \n",
      "4    [0.0, 72.0, 378.0, 555.0, 798.0, 197.0, 73.0, ...   \n",
      "..                                                 ...   \n",
      "995  [488.0, 233.0, 437.0, 533.0, 910.0, 429.0, 459...   \n",
      "996  [488.0, 233.0, 533.0, 437.0, 460.0, 165.0, 501...   \n",
      "997  [488.0, 233.0, 533.0, 460.0, 459.0, 501.0, 164...   \n",
      "998  [488.0, 233.0, 533.0, 165.0, 460.0, 164.0, 437...   \n",
      "999  [488.0, 233.0, 533.0, 437.0, 164.0, 165.0, 460...   \n",
      "\n",
      "                                     most_similar_seqs  \\\n",
      "0    [[(1682, 0), (1682, 0), (1682, 0), (1682, 0), ...   \n",
      "1    [[(1682, 0), (1682, 0), (1682, 0), (1682, 0), ...   \n",
      "2    [[(1682, 0), (1682, 0), (1682, 0), (1682, 0), ...   \n",
      "3    [[(1682, 0), (1682, 0), (1682, 0), (1682, 0), ...   \n",
      "4    [[(1682, 0), (1682, 0), (1682, 0), (1682, 0), ...   \n",
      "..                                                 ...   \n",
      "995  [[(22, 4), (188, 3), (518, 5), (193, 4), (489,...   \n",
      "996  [[(22, 4), (188, 3), (518, 5), (193, 4), (489,...   \n",
      "997  [[(22, 4), (188, 3), (518, 5), (193, 4), (489,...   \n",
      "998  [[(22, 4), (188, 3), (518, 5), (193, 4), (489,...   \n",
      "999  [[(22, 4), (188, 3), (518, 5), (193, 4), (489,...   \n",
      "\n",
      "                                 most_similar_seq_next  \\\n",
      "0    [(288, 5), (241, 4), (241, 5), (303, 5), (285,...   \n",
      "1    [(299, 5), (303, 5), (241, 4), (288, 5), (241,...   \n",
      "2    [(299, 5), (285, 4), (241, 5), (303, 5), (241,...   \n",
      "3    [(299, 5), (241, 4), (288, 5), (241, 5), (285,...   \n",
      "4    [(299, 5), (285, 4), (241, 4), (288, 5), (303,...   \n",
      "..                                                 ...   \n",
      "995  [(165, 4), (169, 4), (512, 4), (422, 3), (192,...   \n",
      "996  [(165, 4), (169, 4), (422, 3), (512, 4), (468,...   \n",
      "997  [(165, 4), (169, 4), (422, 3), (468, 5), (495,...   \n",
      "998  [(165, 4), (169, 4), (422, 3), (401, 3), (468,...   \n",
      "999  [(165, 4), (169, 4), (422, 3), (512, 4), (485,...   \n",
      "\n",
      "                                 most_similar_seq_name  \\\n",
      "0    [[Scream of Stone (Schrei aus Stein) (1991), S...   \n",
      "1    [[Scream of Stone (Schrei aus Stein) (1991), S...   \n",
      "2    [[Scream of Stone (Schrei aus Stein) (1991), S...   \n",
      "3    [[Scream of Stone (Schrei aus Stein) (1991), S...   \n",
      "4    [[Scream of Stone (Schrei aus Stein) (1991), S...   \n",
      "..                                                 ...   \n",
      "995  [[Braveheart (1995), Full Metal Jacket (1987),...   \n",
      "996  [[Braveheart (1995), Full Metal Jacket (1987),...   \n",
      "997  [[Braveheart (1995), Full Metal Jacket (1987),...   \n",
      "998  [[Braveheart (1995), Full Metal Jacket (1987),...   \n",
      "999  [[Braveheart (1995), Full Metal Jacket (1987),...   \n",
      "\n",
      "                            most_similar_seq_next_name  \n",
      "0    [Scream (1996), Last of the Mohicans, The (199...  \n",
      "1    [Hoodlum (1997), Ulee's Gold (1997), Last of t...  \n",
      "2    [Hoodlum (1997), Secrets & Lies (1996), Last o...  \n",
      "3    [Hoodlum (1997), Last of the Mohicans, The (19...  \n",
      "4    [Hoodlum (1997), Secrets & Lies (1996), Last o...  \n",
      "..                                                 ...  \n",
      "995  [Jean de Florette (1986), Wrong Trousers, The ...  \n",
      "996  [Jean de Florette (1986), Wrong Trousers, The ...  \n",
      "997  [Jean de Florette (1986), Wrong Trousers, The ...  \n",
      "998  [Jean de Florette (1986), Wrong Trousers, The ...  \n",
      "999  [Jean de Florette (1986), Wrong Trousers, The ...  \n",
      "\n",
      "[1000 rows x 10 columns]\n"
     ]
    }
   ],
   "source": [
    "print(tmp)"
   ]
  },
  {
   "cell_type": "code",
   "execution_count": 226,
   "metadata": {},
   "outputs": [
    {
     "name": "stdout",
     "output_type": "stream",
     "text": [
      "['Hoodlum (1997)', 'Mother (1996)', 'Fierce Creatures (1997)', \"Ulee's Gold (1997)\", 'Hellraiser: Bloodline (1996)', 'Last Supper, The (1995)', 'Snow White and the Seven Dwarfs (1937)', 'Maximum Risk (1996)', 'White Squall (1996)', 'Home for the Holidays (1995)']\n"
     ]
    }
   ],
   "source": [
    "i=10\n",
    "print(tmp[\"movie_names_only\"][i][:tmp[\"len_seq\"][i]])"
   ]
  },
  {
   "cell_type": "code",
   "execution_count": 183,
   "metadata": {},
   "outputs": [
    {
     "name": "stdout",
     "output_type": "stream",
     "text": [
      "[['Braveheart (1995)', 'Full Metal Jacket (1987)', \"Miller's Crossing (1990)\", 'Right Stuff, The (1983)', 'Notorious (1946)', 'His Girl Friday (1940)', 'Magnificent Seven, The (1954)', 'Army of Darkness (1993)', 'Crossing Guard, The (1995)', 'Raiders of the Lost Ark (1981)'], ['Dances with Wolves (1990)', 'In the Name of the Father (1993)', 'Magnificent Seven, The (1954)', 'Terminator 2: Judgment Day (1991)', 'Gone with the Wind (1939)', 'Princess Bride, The (1987)', 'Ruby in Paradise (1993)', 'Aladdin and the King of Thieves (1996)', 'Empire Strikes Back, The (1980)', 'Fish Called Wanda, A (1988)'], ['GoodFellas (1990)', 'Crimson Tide (1995)', 'Braveheart (1995)', 'Full Metal Jacket (1987)', \"Miller's Crossing (1990)\", 'Right Stuff, The (1983)', 'Notorious (1946)', 'His Girl Friday (1940)', 'Magnificent Seven, The (1954)', 'Army of Darkness (1993)'], ['Crimson Tide (1995)', 'Braveheart (1995)', 'Full Metal Jacket (1987)', \"Miller's Crossing (1990)\", 'Right Stuff, The (1983)', 'Notorious (1946)', 'His Girl Friday (1940)', 'Magnificent Seven, The (1954)', 'Army of Darkness (1993)', 'Crossing Guard, The (1995)'], ['Citizen Ruth (1996)', 'Fan, The (1996)', 'Rainmaker, The (1997)', 'Kiss the Girls (1997)', 'Event Horizon (1997)', 'Silence of the Lambs, The (1991)', 'Candidate, The (1972)', 'Glimmer Man, The (1996)', 'Right Stuff, The (1983)', 'Good, The Bad and The Ugly, The (1966)'], ['Home Alone (1990)', 'Glengarry Glen Ross (1992)', 'Die Hard 2 (1990)', 'Duck Soup (1933)', 'Star Trek V: The Final Frontier (1989)', 'Brady Bunch Movie, The (1995)', '12 Angry Men (1957)', 'His Girl Friday (1940)', 'Vanya on 42nd Street (1994)', 'Godfather: Part II, The (1974)'], ['Rosewood (1997)', 'Mr. Smith Goes to Washington (1939)', 'Daytrippers, The (1996)', 'Addicted to Love (1997)', 'Mirror Has Two Faces, The (1996)', 'Tin Cup (1996)', 'Dr. Strangelove or: How I Learned to Stop Worrying and Love the Bomb (1963)', 'Unknown', \"Devil's Own, The (1997)\", 'Streetcar Named Desire, A (1951)'], ['Full Metal Jacket (1987)', \"Miller's Crossing (1990)\", 'Right Stuff, The (1983)', 'Notorious (1946)', 'His Girl Friday (1940)', 'Magnificent Seven, The (1954)', 'Army of Darkness (1993)', 'Crossing Guard, The (1995)', 'Raiders of the Lost Ark (1981)', 'Jean de Florette (1986)'], ['Rainmaker, The (1997)', 'Kiss the Girls (1997)', 'Event Horizon (1997)', 'Silence of the Lambs, The (1991)', 'Candidate, The (1972)', 'Glimmer Man, The (1996)', 'Right Stuff, The (1983)', 'Good, The Bad and The Ugly, The (1966)', 'Sleeper (1973)', 'Transformers: The Movie, The (1986)'], ['Man Who Would Be King, The (1975)', 'My Left Foot (1989)', 'Sabrina (1954)', 'Good, The Bad and The Ugly, The (1966)', 'Aliens (1986)', 'Sleepless in Seattle (1993)', 'I.Q. (1994)', '2001: A Space Odyssey (1968)', 'Ben-Hur (1959)', 'Back to the Future (1985)'], ['Red Rock West (1992)', \"Breakfast at Tiffany's (1961)\", 'Cyrano de Bergerac (1990)', 'Jungle Book, The (1994)', 'Bridge on the River Kwai, The (1957)', 'Client, The (1994)', 'Bonnie and Clyde (1967)', 'Empire Strikes Back, The (1980)', 'Godfather: Part II, The (1974)', 'Unbearable Lightness of Being, The (1988)'], ['My Fair Lady (1964)', 'Killing Fields, The (1984)', 'Wizard of Oz, The (1939)', 'Some Like It Hot (1959)', 'Deer Hunter, The (1978)', 'Field of Dreams (1989)', 'Down by Law (1986)', 'Raging Bull (1980)', 'Forbidden Planet (1956)', 'Quiz Show (1994)'], ['Last Man Standing (1996)', 'Fan, The (1996)', 'Blues Brothers 2000 (1998)', 'Fair Game (1995)', 'Harriet the Spy (1996)', 'Kingpin (1996)', 'Hunchback of Notre Dame, The (1996)', \"She's the One (1996)\", 'Craft, The (1996)', 'Midnight in the Garden of Good and Evil (1997)'], ['Fan, The (1996)', 'Home Alone (1990)', 'Four Weddings and a Funeral (1994)', 'Hour of the Pig, The (1993)', 'Face/Off (1997)', '187 (1997)', 'Leave It to Beaver (1997)', 'House of Yes, The (1997)', 'Ice Storm, The (1997)', 'In & Out (1997)'], ['Richard III (1995)', 'Bad Moon (1996)', 'Boys on the Side (1995)', 'Field of Dreams (1989)', 'Dracula: Dead and Loving It (1995)', 'Under Siege (1992)', 'Star Trek IV: The Voyage Home (1986)', 'Quest, The (1996)', 'Hour of the Pig, The (1993)', 'Disclosure (1994)'], ['Full Metal Jacket (1987)', 'Freeway (1996)', 'Hot Shots! Part Deux (1993)', 'Gandhi (1982)', 'Three Colors: Blue (1993)', 'Santa Clause, The (1994)', 'Baby-Sitters Club, The (1995)', 'Once Upon a Time in America (1984)', 'Kansas City (1996)', 'Naked (1993)'], ['Dolores Claiborne (1994)', 'Full Metal Jacket (1987)', 'Freeway (1996)', 'Hot Shots! Part Deux (1993)', 'Gandhi (1982)', 'Three Colors: Blue (1993)', 'Santa Clause, The (1994)', 'Baby-Sitters Club, The (1995)', 'Once Upon a Time in America (1984)', 'Kansas City (1996)'], ['Glengarry Glen Ross (1992)', 'Die Hard 2 (1990)', 'Duck Soup (1933)', 'Star Trek V: The Final Frontier (1989)', 'Brady Bunch Movie, The (1995)', '12 Angry Men (1957)', 'His Girl Friday (1940)', 'Vanya on 42nd Street (1994)', 'Godfather: Part II, The (1974)', 'Raging Bull (1980)'], ['Dark City (1998)', 'Some Like It Hot (1959)', 'Gandhi (1982)', 'Princess Bride, The (1987)', 'Bad Boys (1995)', 'In the Name of the Father (1993)', 'Highlander (1986)', 'Back to the Future (1985)', 'Client, The (1994)', 'Hour of the Pig, The (1993)'], ['Kiss the Girls (1997)', 'Event Horizon (1997)', 'Silence of the Lambs, The (1991)', 'Candidate, The (1972)', 'Glimmer Man, The (1996)', 'Right Stuff, The (1983)', 'Good, The Bad and The Ugly, The (1966)', 'Sleeper (1973)', 'Transformers: The Movie, The (1986)', 'Around the World in 80 Days (1956)'], ['Boys Life (1995)', 'Space Jam (1996)', 'Sting, The (1973)', 'Desperado (1995)', 'Batman Returns (1992)', 'Mrs. Doubtfire (1993)', '20,000 Leagues Under the Sea (1954)', 'Strange Days (1995)', 'Sliver (1993)', 'Booty Call (1997)'], ['Seven (Se7en) (1995)', 'Bringing Up Baby (1938)', 'Four Weddings and a Funeral (1994)', 'Philadelphia Story, The (1940)', 'Henry V (1989)', \"It's a Wonderful Life (1946)\", 'Adventures of Robin Hood, The (1938)', 'Vertigo (1958)', 'Lawrence of Arabia (1962)', 'Candidate, The (1972)'], ['Rebel Without a Cause (1955)', 'Clockwork Orange, A (1971)', 'GoodFellas (1990)', 'Crimson Tide (1995)', 'Braveheart (1995)', 'Full Metal Jacket (1987)', \"Miller's Crossing (1990)\", 'Right Stuff, The (1983)', 'Notorious (1946)', 'His Girl Friday (1940)'], ['American Buffalo (1996)', 'Fan, The (1996)', 'Home Alone (1990)', 'Four Weddings and a Funeral (1994)', 'Hour of the Pig, The (1993)', 'Face/Off (1997)', '187 (1997)', 'Leave It to Beaver (1997)', 'House of Yes, The (1997)', 'Ice Storm, The (1997)'], ['In the Name of the Father (1993)', 'Magnificent Seven, The (1954)', 'Terminator 2: Judgment Day (1991)', 'Gone with the Wind (1939)', 'Princess Bride, The (1987)', 'Ruby in Paradise (1993)', 'Aladdin and the King of Thieves (1996)', 'Empire Strikes Back, The (1980)', 'Fish Called Wanda, A (1988)', 'Wrong Trousers, The (1993)'], ['Local Hero (1983)', 'Hot Shots! Part Deux (1993)', 'African Queen, The (1951)', 'Gone with the Wind (1939)', 'Sting, The (1973)', 'Cinderella (1950)', 'Red Rock West (1992)', \"Breakfast at Tiffany's (1961)\", 'Cyrano de Bergerac (1990)', 'Jungle Book, The (1994)'], ['This Is Spinal Tap (1984)', 'Full Speed (1996)', 'Silence of the Lambs, The (1991)', 'Highlander (1986)', 'Jimmy Hollywood (1994)', 'Brazil (1985)', 'Inspector General, The (1949)', 'Chasing Amy (1997)', 'Air Force One (1997)', 'Mad City (1997)'], ['Sting, The (1973)', 'NeverEnding Story III, The (1994)', 'Highlander (1986)', 'Willy Wonka and the Chocolate Factory (1971)', 'Up Close and Personal (1996)', 'Parent Trap, The (1961)', 'Dumbo (1941)', 'Three Caballeros, The (1945)', 'War Room, The (1993)', 'Heat (1995)'], ['Four Weddings and a Funeral (1994)', 'Hour of the Pig, The (1993)', 'Face/Off (1997)', '187 (1997)', 'Leave It to Beaver (1997)', 'House of Yes, The (1997)', 'Ice Storm, The (1997)', 'In & Out (1997)', 'Life Less Ordinary, A (1997)', 'G.I. Jane (1997)'], ['Bringing Up Baby (1938)', 'Four Weddings and a Funeral (1994)', 'Philadelphia Story, The (1940)', 'Henry V (1989)', \"It's a Wonderful Life (1946)\", 'Adventures of Robin Hood, The (1938)', 'Vertigo (1958)', 'Lawrence of Arabia (1962)', 'Candidate, The (1972)', 'Around the World in 80 Days (1956)'], ['Fan, The (1996)', 'Blues Brothers 2000 (1998)', 'Fair Game (1995)', 'Harriet the Spy (1996)', 'Kingpin (1996)', 'Hunchback of Notre Dame, The (1996)', \"She's the One (1996)\", 'Craft, The (1996)', 'Midnight in the Garden of Good and Evil (1997)', \"Marvin's Room (1996)\"], ['Full Speed (1996)', 'Silence of the Lambs, The (1991)', 'Highlander (1986)', 'Jimmy Hollywood (1994)', 'Brazil (1985)', 'Inspector General, The (1949)', 'Chasing Amy (1997)', 'Air Force One (1997)', 'Mad City (1997)', 'Anaconda (1997)'], ['Gone with the Wind (1939)', 'Groundhog Day (1993)', \"Breakfast at Tiffany's (1961)\", 'Third Man, The (1949)', 'Rock, The (1996)', 'Four Weddings and a Funeral (1994)', 'Terminator 2: Judgment Day (1991)', 'Bridge on the River Kwai, The (1957)', 'Blues Brothers, The (1980)', 'My Fair Lady (1964)'], ['Bedknobs and Broomsticks (1971)', 'Gone with the Wind (1939)', 'Groundhog Day (1993)', \"Breakfast at Tiffany's (1961)\", 'Third Man, The (1949)', 'Rock, The (1996)', 'Four Weddings and a Funeral (1994)', 'Terminator 2: Judgment Day (1991)', 'Bridge on the River Kwai, The (1957)', 'Blues Brothers, The (1980)'], ['Third Man, The (1949)', 'Twelve Monkeys (1995)', 'Dances with Wolves (1990)', 'Transformers: The Movie, The (1986)', 'Citizen Kane (1941)', 'Abyss, The (1989)', 'Star Trek: First Contact (1996)', 'Free Willy (1993)', 'Man Who Would Be King, The (1975)', 'My Left Foot (1989)'], ['Star Trek: First Contact (1996)', 'Free Willy (1993)', 'Man Who Would Be King, The (1975)', 'My Left Foot (1989)', 'Sabrina (1954)', 'Good, The Bad and The Ugly, The (1966)', 'Aliens (1986)', 'Sleepless in Seattle (1993)', 'I.Q. (1994)', '2001: A Space Odyssey (1968)'], ['Spitfire Grill, The (1996)', 'Dances with Wolves (1990)', 'In the Name of the Father (1993)', 'Magnificent Seven, The (1954)', 'Terminator 2: Judgment Day (1991)', 'Gone with the Wind (1939)', 'Princess Bride, The (1987)', 'Ruby in Paradise (1993)', 'Aladdin and the King of Thieves (1996)', 'Empire Strikes Back, The (1980)'], ['Silence of the Lambs, The (1991)', 'Highlander (1986)', 'Jimmy Hollywood (1994)', 'Brazil (1985)', 'Inspector General, The (1949)', 'Chasing Amy (1997)', 'Air Force One (1997)', 'Mad City (1997)', 'Anaconda (1997)', 'Indiana Jones and the Last Crusade (1989)'], ['Cinderella (1950)', 'Red Rock West (1992)', \"Breakfast at Tiffany's (1961)\", 'Cyrano de Bergerac (1990)', 'Jungle Book, The (1994)', 'Bridge on the River Kwai, The (1957)', 'Client, The (1994)', 'Bonnie and Clyde (1967)', 'Empire Strikes Back, The (1980)', 'Godfather: Part II, The (1974)'], ['Aladdin (1992)', \"Bram Stoker's Dracula (1992)\", 'Man Without a Face, The (1993)', 'Spellbound (1945)', 'Amityville Curse, The (1990)', 'Fly Away Home (1996)', 'Romeo Is Bleeding (1993)', \"Pyromaniac's Love Story, A (1995)\", 'Lion King, The (1994)', 'Richard III (1995)'], ['Four Weddings and a Funeral (1994)', 'Aladdin (1992)', \"Bram Stoker's Dracula (1992)\", 'Man Without a Face, The (1993)', 'Spellbound (1945)', 'Amityville Curse, The (1990)', 'Fly Away Home (1996)', 'Romeo Is Bleeding (1993)', \"Pyromaniac's Love Story, A (1995)\", 'Lion King, The (1994)'], ['Face/Off (1997)', '187 (1997)', 'Leave It to Beaver (1997)', 'House of Yes, The (1997)', 'Ice Storm, The (1997)', 'In & Out (1997)', 'Life Less Ordinary, A (1997)', 'G.I. Jane (1997)', 'L.A. Confidential (1997)', 'Desperate Measures (1998)'], ['Man Without a Face, The (1993)', 'Spellbound (1945)', 'Amityville Curse, The (1990)', 'Fly Away Home (1996)', 'Romeo Is Bleeding (1993)', \"Pyromaniac's Love Story, A (1995)\", 'Lion King, The (1994)', 'Richard III (1995)', 'NeverEnding Story III, The (1994)', 'Raising Arizona (1987)'], ['Notorious (1946)', 'His Girl Friday (1940)', 'Magnificent Seven, The (1954)', 'Army of Darkness (1993)', 'Crossing Guard, The (1995)', 'Raiders of the Lost Ark (1981)', 'Jean de Florette (1986)', 'Roman Holiday (1953)', 'Forrest Gump (1994)', 'My Fair Lady (1964)'], ['His Girl Friday (1940)', 'Magnificent Seven, The (1954)', 'Army of Darkness (1993)', 'Crossing Guard, The (1995)', 'Raiders of the Lost Ark (1981)', 'Jean de Florette (1986)', 'Roman Holiday (1953)', 'Forrest Gump (1994)', 'My Fair Lady (1964)', 'Killing Fields, The (1984)'], ['Some Like It Hot (1959)', 'Gandhi (1982)', 'Princess Bride, The (1987)', 'Bad Boys (1995)', 'In the Name of the Father (1993)', 'Highlander (1986)', 'Back to the Future (1985)', 'Client, The (1994)', 'Hour of the Pig, The (1993)', 'Bedknobs and Broomsticks (1971)'], [\"Wes Craven's New Nightmare (1994)\", 'Muppet Treasure Island (1996)', 'I.Q. (1994)', 'Star Trek III: The Search for Spock (1984)', 'Citizen Kane (1941)', 'Dark City (1998)', 'Some Like It Hot (1959)', 'Gandhi (1982)', 'Princess Bride, The (1987)', 'Bad Boys (1995)'], ['Hoodlum (1997)', 'Mother (1996)', 'Fierce Creatures (1997)', 'Scream of Stone (Schrei aus Stein) (1991)', 'Scream of Stone (Schrei aus Stein) (1991)', 'Scream of Stone (Schrei aus Stein) (1991)', 'Scream of Stone (Schrei aus Stein) (1991)', 'Scream of Stone (Schrei aus Stein) (1991)', 'Scream of Stone (Schrei aus Stein) (1991)', 'Scream of Stone (Schrei aus Stein) (1991)'], ['Blues Brothers 2000 (1998)', 'Fair Game (1995)', 'Harriet the Spy (1996)', 'Kingpin (1996)', 'Hunchback of Notre Dame, The (1996)', \"She's the One (1996)\", 'Craft, The (1996)', 'Midnight in the Garden of Good and Evil (1997)', \"Marvin's Room (1996)\", 'Secrets & Lies (1996)'], ['Little Big League (1994)', 'American Buffalo (1996)', 'Fan, The (1996)', 'Home Alone (1990)', 'Four Weddings and a Funeral (1994)', 'Hour of the Pig, The (1993)', 'Face/Off (1997)', '187 (1997)', 'Leave It to Beaver (1997)', 'House of Yes, The (1997)']]\n"
     ]
    }
   ],
   "source": [
    "print(tmp[\"most_similar_seq_name\"][10])"
   ]
  },
  {
   "cell_type": "code",
   "execution_count": 227,
   "metadata": {},
   "outputs": [
    {
     "name": "stdout",
     "output_type": "stream",
     "text": [
      "10\n",
      "Watch History 0: Braveheart (1995) Full Metal Jacket (1987) Miller's Crossing (1990) Right Stuff, The (1983) Notorious (1946) His Girl Friday (1940) Magnificent Seven, The (1954) Army of Darkness (1993) Crossing Guard, The (1995) Raiders of the Lost Ark (1981) \n",
      "Watch History 1: Dances with Wolves (1990) In the Name of the Father (1993) Magnificent Seven, The (1954) Terminator 2: Judgment Day (1991) Gone with the Wind (1939) Princess Bride, The (1987) Ruby in Paradise (1993) Aladdin and the King of Thieves (1996) Empire Strikes Back, The (1980) Fish Called Wanda, A (1988) \n",
      "Watch History 2: GoodFellas (1990) Crimson Tide (1995) Braveheart (1995) Full Metal Jacket (1987) Miller's Crossing (1990) Right Stuff, The (1983) Notorious (1946) His Girl Friday (1940) Magnificent Seven, The (1954) Army of Darkness (1993) \n",
      "Watch History 3: Crimson Tide (1995) Braveheart (1995) Full Metal Jacket (1987) Miller's Crossing (1990) Right Stuff, The (1983) Notorious (1946) His Girl Friday (1940) Magnificent Seven, The (1954) Army of Darkness (1993) Crossing Guard, The (1995) \n",
      "Watch History 4: Citizen Ruth (1996) Fan, The (1996) Rainmaker, The (1997) Kiss the Girls (1997) Event Horizon (1997) Silence of the Lambs, The (1991) Candidate, The (1972) Glimmer Man, The (1996) Right Stuff, The (1983) Good, The Bad and The Ugly, The (1966) \n",
      "Watch History 5: Home Alone (1990) Glengarry Glen Ross (1992) Die Hard 2 (1990) Duck Soup (1933) Star Trek V: The Final Frontier (1989) Brady Bunch Movie, The (1995) 12 Angry Men (1957) His Girl Friday (1940) Vanya on 42nd Street (1994) Godfather: Part II, The (1974) \n",
      "Watch History 6: Rosewood (1997) Mr. Smith Goes to Washington (1939) Daytrippers, The (1996) Addicted to Love (1997) Mirror Has Two Faces, The (1996) Tin Cup (1996) Dr. Strangelove or: How I Learned to Stop Worrying and Love the Bomb (1963) Unknown Devil's Own, The (1997) Streetcar Named Desire, A (1951) \n",
      "Watch History 7: Full Metal Jacket (1987) Miller's Crossing (1990) Right Stuff, The (1983) Notorious (1946) His Girl Friday (1940) Magnificent Seven, The (1954) Army of Darkness (1993) Crossing Guard, The (1995) Raiders of the Lost Ark (1981) Jean de Florette (1986) \n",
      "Watch History 8: Rainmaker, The (1997) Kiss the Girls (1997) Event Horizon (1997) Silence of the Lambs, The (1991) Candidate, The (1972) Glimmer Man, The (1996) Right Stuff, The (1983) Good, The Bad and The Ugly, The (1966) Sleeper (1973) Transformers: The Movie, The (1986) \n",
      "Watch History 9: Man Who Would Be King, The (1975) My Left Foot (1989) Sabrina (1954) Good, The Bad and The Ugly, The (1966) Aliens (1986) Sleepless in Seattle (1993) I.Q. (1994) 2001: A Space Odyssey (1968) Ben-Hur (1959) Back to the Future (1985) \n",
      "\n"
     ]
    }
   ],
   "source": [
    "movie_list = [\" \".join(names) for names in tmp[\"most_similar_seq_name\"][10][:10]]\n",
    "print(len(movie_list))\n",
    "movie_lists = \"\"\n",
    "for i,name in enumerate(movie_list):\n",
    "    movie_lists += f\"Watch History {i}: {name} \\n\"\n",
    "print(movie_lists)"
   ]
  },
  {
   "cell_type": "code",
   "execution_count": 228,
   "metadata": {},
   "outputs": [],
   "source": [
    "target_movie = \" \".join(tmp[\"movie_names_only\"][i][:tmp[\"len_seq\"][i]])"
   ]
  },
  {
   "cell_type": "code",
   "execution_count": 249,
   "metadata": {},
   "outputs": [
    {
     "name": "stdout",
     "output_type": "stream",
     "text": [
      "\n",
      "You are a system that recommends movies based on viewing history. Please evaluate the similarity between each watch history in the candidate list and the single target watch history, and the reason. Rate the similarity on a scale from 1 to 10 between , where 1 is not similar at all and 10 is very similar.\n",
      "\n",
      "Candidate Watch History:\n",
      "Watch History 0: Braveheart (1995) Full Metal Jacket (1987) Miller's Crossing (1990) Right Stuff, The (1983) Notorious (1946) His Girl Friday (1940) Magnificent Seven, The (1954) Army of Darkness (1993) Crossing Guard, The (1995) Raiders of the Lost Ark (1981) \n",
      "Watch History 1: Dances with Wolves (1990) In the Name of the Father (1993) Magnificent Seven, The (1954) Terminator 2: Judgment Day (1991) Gone with the Wind (1939) Princess Bride, The (1987) Ruby in Paradise (1993) Aladdin and the King of Thieves (1996) Empire Strikes Back, The (1980) Fish Called Wanda, A (1988) \n",
      "Watch History 2: GoodFellas (1990) Crimson Tide (1995) Braveheart (1995) Full Metal Jacket (1987) Miller's Crossing (1990) Right Stuff, The (1983) Notorious (1946) His Girl Friday (1940) Magnificent Seven, The (1954) Army of Darkness (1993) \n",
      "Watch History 3: Crimson Tide (1995) Braveheart (1995) Full Metal Jacket (1987) Miller's Crossing (1990) Right Stuff, The (1983) Notorious (1946) His Girl Friday (1940) Magnificent Seven, The (1954) Army of Darkness (1993) Crossing Guard, The (1995) \n",
      "Watch History 4: Citizen Ruth (1996) Fan, The (1996) Rainmaker, The (1997) Kiss the Girls (1997) Event Horizon (1997) Silence of the Lambs, The (1991) Candidate, The (1972) Glimmer Man, The (1996) Right Stuff, The (1983) Good, The Bad and The Ugly, The (1966) \n",
      "Watch History 5: Home Alone (1990) Glengarry Glen Ross (1992) Die Hard 2 (1990) Duck Soup (1933) Star Trek V: The Final Frontier (1989) Brady Bunch Movie, The (1995) 12 Angry Men (1957) His Girl Friday (1940) Vanya on 42nd Street (1994) Godfather: Part II, The (1974) \n",
      "Watch History 6: Rosewood (1997) Mr. Smith Goes to Washington (1939) Daytrippers, The (1996) Addicted to Love (1997) Mirror Has Two Faces, The (1996) Tin Cup (1996) Dr. Strangelove or: How I Learned to Stop Worrying and Love the Bomb (1963) Unknown Devil's Own, The (1997) Streetcar Named Desire, A (1951) \n",
      "Watch History 7: Full Metal Jacket (1987) Miller's Crossing (1990) Right Stuff, The (1983) Notorious (1946) His Girl Friday (1940) Magnificent Seven, The (1954) Army of Darkness (1993) Crossing Guard, The (1995) Raiders of the Lost Ark (1981) Jean de Florette (1986) \n",
      "Watch History 8: Rainmaker, The (1997) Kiss the Girls (1997) Event Horizon (1997) Silence of the Lambs, The (1991) Candidate, The (1972) Glimmer Man, The (1996) Right Stuff, The (1983) Good, The Bad and The Ugly, The (1966) Sleeper (1973) Transformers: The Movie, The (1986) \n",
      "Watch History 9: Man Who Would Be King, The (1975) My Left Foot (1989) Sabrina (1954) Good, The Bad and The Ugly, The (1966) Aliens (1986) Sleepless in Seattle (1993) I.Q. (1994) 2001: A Space Odyssey (1968) Ben-Hur (1959) Back to the Future (1985) \n",
      "\n",
      "\n",
      "Target Watch History:\n",
      "Hoodlum (1997) Mother (1996) Fierce Creatures (1997) Ulee's Gold (1997) Hellraiser: Bloodline (1996) Last Supper, The (1995) Snow White and the Seven Dwarfs (1937) Maximum Risk (1996) White Squall (1996)\n",
      "\n",
      "Please output the similarity ratings between each Candidate Watch History and Target Watch History in JSON format. The output should only contain the JSON object with similarity scores and reasons, without any additional text. Output:\n",
      "\n"
     ]
    }
   ],
   "source": [
    "prompt = f\"\"\"\n",
    "You are a system that recommends movies based on viewing history. Please evaluate the similarity between each watch history in the candidate list and the single target watch history, and the reason. Rate the similarity on a scale from 1 to 10 between , where 1 is not similar at all and 10 is very similar.\n",
    "\n",
    "Candidate Watch History:\n",
    "{movie_lists}\n",
    "\n",
    "Target Watch History:\n",
    "{target_movie}\n",
    "\n",
    "Please output the similarity ratings between each Candidate Watch History and Target Watch History in JSON format. The output should only contain the JSON object with similarity scores and reasons, without any additional text. Output:\n",
    "\"\"\"\n",
    "print(prompt)"
   ]
  },
  {
   "cell_type": "code",
   "execution_count": 250,
   "metadata": {},
   "outputs": [
    {
     "name": "stderr",
     "output_type": "stream",
     "text": [
      "The attention mask and the pad token id were not set. As a consequence, you may observe unexpected behavior. Please pass your input's `attention_mask` to obtain reliable results.\n",
      "Setting `pad_token_id` to `eos_token_id`:128001 for open-end generation.\n"
     ]
    },
    {
     "name": "stdout",
     "output_type": "stream",
     "text": [
      "<|begin_of_text|>\n",
      "You are a system that recommends movies based on viewing history. Please evaluate the similarity between each watch history in the candidate list and the single target watch history, and the reason. Rate the similarity on a scale from 1 to 10 between, where 1 is not similar at all and 10 is very similar.\n",
      "\n",
      "Candidate Watch History:\n",
      "Watch History 0: Braveheart (1995) Full Metal Jacket (1987) Miller's Crossing (1990) Right Stuff, The (1983) Notorious (1946) His Girl Friday (1940) Magnificent Seven, The (1954) Army of Darkness (1993) Crossing Guard, The (1995) Raiders of the Lost Ark (1981) \n",
      "Watch History 1: Dances with Wolves (1990) In the Name of the Father (1993) Magnificent Seven, The (1954) Terminator 2: Judgment Day (1991) Gone with the Wind (1939) Princess Bride, The (1987) Ruby in Paradise (1993) Aladdin and the King of Thieves (1996) Empire Strikes Back, The (1980) Fish Called Wanda, A (1988) \n",
      "Watch History 2: GoodFellas (1990) Crimson Tide (1995) Braveheart (1995) Full Metal Jacket (1987) Miller's Crossing (1990) Right Stuff, The (1983) Notorious (1946) His Girl Friday (1940) Magnificent Seven, The (1954) Army of Darkness (1993) \n",
      "Watch History 3: Crimson Tide (1995) Braveheart (1995) Full Metal Jacket (1987) Miller's Crossing (1990) Right Stuff, The (1983) Notorious (1946) His Girl Friday (1940) Magnificent Seven, The (1954) Army of Darkness (1993) Crossing Guard, The (1995) \n",
      "Watch History 4: Citizen Ruth (1996) Fan, The (1996) Rainmaker, The (1997) Kiss the Girls (1997) Event Horizon (1997) Silence of the Lambs, The (1991) Candidate, The (1972) Glimmer Man, The (1996) Right Stuff, The (1983) Good, The Bad and The Ugly, The (1966) \n",
      "Watch History 5: Home Alone (1990) Glengarry Glen Ross (1992) Die Hard 2 (1990) Duck Soup (1933) Star Trek V: The Final Frontier (1989) Brady Bunch Movie, The (1995) 12 Angry Men (1957) His Girl Friday (1940) Vanya on 42nd Street (1994) Godfather: Part II, The (1974) \n",
      "Watch History 6: Rosewood (1997) Mr. Smith Goes to Washington (1939) Daytrippers, The (1996) Addicted to Love (1997) Mirror Has Two Faces, The (1996) Tin Cup (1996) Dr. Strangelove or: How I Learned to Stop Worrying and Love the Bomb (1963) Unknown Devil's Own, The (1997) Streetcar Named Desire, A (1951) \n",
      "Watch History 7: Full Metal Jacket (1987) Miller's Crossing (1990) Right Stuff, The (1983) Notorious (1946) His Girl Friday (1940) Magnificent Seven, The (1954) Army of Darkness (1993) Crossing Guard, The (1995) Raiders of the Lost Ark (1981) Jean de Florette (1986) \n",
      "Watch History 8: Rainmaker, The (1997) Kiss the Girls (1997) Event Horizon (1997) Silence of the Lambs, The (1991) Candidate, The (1972) Glimmer Man, The (1996) Right Stuff, The (1983) Good, The Bad and The Ugly, The (1966) Sleeper (1973) Transformers: The Movie, The (1986) \n",
      "Watch History 9: Man Who Would Be King, The (1975) My Left Foot (1989) Sabrina (1954) Good, The Bad and The Ugly, The (1966) Aliens (1986) Sleepless in Seattle (1993) I.Q. (1994) 2001: A Space Odyssey (1968) Ben-Hur (1959) Back to the Future (1985) \n",
      "\n",
      "\n",
      "Target Watch History:\n",
      "Hoodlum (1997) Mother (1996) Fierce Creatures (1997) Ulee's Gold (1997) Hellraiser: Bloodline (1996) Last Supper, The (1995) Snow White and the Seven Dwarfs (1937) Maximum Risk (1996) White Squall (1996)\n",
      "\n",
      "Please output the similarity ratings between each Candidate Watch History and Target Watch History in JSON format. The output should only contain the JSON object with similarity scores and reasons, without any additional text. Output:\n",
      "[\n",
      "    {\n",
      "        \"candidate\": \"Watch History 0\",\n",
      "        \"target\": \"Hoodlum (1997) Mother (1996) Fierce Creatures (1997) Ulee's Gold (1997) Hellraiser: Bloodline (1996) Last Supper, The (1995) Snow White and the Seven Dwarfs (1937) Maximum Risk (1996) White Squall (1996)\",\n",
      "        \"similarity\": 1,\n",
      "        \"reason\": \"No movies in common\"\n",
      "    },\n",
      "    {\n",
      "        \"candidate\": \"Watch History 1\",\n",
      "        \"target\": \"Hoodlum (1997) Mother (1996) Fierce Creatures (1997) Ulee's Gold (1997) Hellraiser: Bloodline (1996) Last Supper, The (1995) Snow White and the Seven Dwarfs (1937) Maximum Risk (1996) White Squall (1996)\",\n",
      "        \"similarity\": 1,\n",
      "        \"reason\": \"No movies in common\"\n",
      "    },\n",
      "    {\n",
      "        \"candidate\": \"Watch History 2\",\n",
      "        \"target\": \"Hoodlum (1997) Mother (1996) Fierce Creatures (1997) Ulee's Gold (1997) Hellraiser: Bloodline (1996) Last Supper, The (1995) Snow White and the Seven Dwarfs (1937) Maximum Risk (1996) White Squall (1996)\",\n",
      "        \"similarity\": 1,\n",
      "        \"reason\": \"No movies in common\"\n",
      "    },\n",
      "    {\n",
      "        \"candidate\": \"Watch History 3\",\n",
      "        \"target\": \"Hoodlum (1997) Mother (1996) Fierce Creatures (1997) Ulee's Gold (1997) Hellraiser: Bloodline (1996) Last Supper, The (1995) Snow White and the Seven Dwarfs (1937) Maximum Risk (1996) White Squall (1996)\",\n",
      "        \"similarity\": 1,\n",
      "        \"reason\": \"No movies in common\"\n",
      "    },\n",
      "    {\n",
      "        \"candidate\": \"Watch History 4\",\n",
      "        \"target\": \"Hoodlum (1997) Mother (1996) Fierce Creatures (1997) Ulee's Gold (1997) Hellraiser: Bloodline (1996) Last Supper, The (1995) Snow White and the Seven Dwarfs (1937) Maximum Risk (1996) White Squall (1996)\",\n",
      "        \"similarity\": 1,\n",
      "        \"reason\": \"No movies in common\"\n",
      "    },\n",
      "    {\n",
      "        \"candidate\": \"Watch History 5\",\n",
      "        \"target\": \"Hoodlum (1997) Mother (1996) Fierce Creatures (1997) Ulee's Gold (1997) Hellraiser: Bloodline (1996) Last Supper, The (1995) Snow White and the Seven Dwarfs (1937) Maximum Risk (1996) White Squall (1996)\",\n",
      "        \"similarity\": 1,\n",
      "        \"reason\": \"No movies in common\"\n",
      "    },\n",
      "    {\n",
      "        \"candidate\": \"Watch History 6\",\n",
      "        \"target\": \"Hoodlum (1997) Mother (1996) Fierce Creatures (1997) Ulee's Gold (1997) Hellraiser: Bloodline (1996) Last Supper, The (1995) Snow White and the Seven Dwarfs (1937) Maximum Risk (1996) White Squall (1996)\",\n",
      "        \"similarity\": 1,\n",
      "        \"reason\": \"No movies in common\"\n",
      "    },\n",
      "    {\n",
      "        \"candidate\": \"Watch History 7\",\n",
      "        \"target\": \"Hoodlum (1997) Mother (1996) Fierce Creatures (1997) Ulee's Gold (1997) Hellraiser: Bloodline (1996) Last Supper, The (1995) Snow White and the Seven Dwarfs (1937) Maximum Risk (1996) White Squall (1996)\",\n",
      "        \"similarity\": 1,\n",
      "        \"reason\": \"No movies in common\"\n",
      "    },\n",
      "    {\n",
      "        \"candidate\": \"Watch History 8\",\n",
      "        \"target\": \"Hoodlum (1997) Mother (1996) Fierce Creatures (1997) Ulee's Gold (1997) Hellraiser: Bloodline (1996) Last Supper, The (1995) Snow White and the Seven Dwarfs (1937) Maximum Risk (1996) White Squall (1996)\",\n",
      "        \"similarity\": 1,\n",
      "        \"reason\": \"No movies in common\"\n",
      "    },\n",
      "    {\n",
      "        \"candidate\": \"Watch History 9\",\n",
      "        \"target\": \"Hoodlum (1997) Mother (1996) Fierce Creatures (1997) Ulee's Gold (1997) Hellraiser: Bloodline (\n"
     ]
    }
   ],
   "source": [
    "input = tokenizer(prompt, return_tensors=\"pt\")\n",
    "try: output = model.generate(input[\"input_ids\"].cuda(), temperature=0.1, max_new_tokens=1024).cpu()[0]\n",
    "except: output = model.generate(input[\"input_ids\"], temperature=0.1, max_new_tokens=1024).cpu()[0]\n",
    "output = tokenizer.decode(output)\n",
    "print(output)"
   ]
  },
  {
   "cell_type": "code",
   "execution_count": null,
   "metadata": {},
   "outputs": [],
   "source": []
  }
 ],
 "metadata": {
  "kernelspec": {
   "display_name": "Python 3.9.2 64-bit",
   "language": "python",
   "name": "python3"
  },
  "language_info": {
   "codemirror_mode": {
    "name": "ipython",
    "version": 3
   },
   "file_extension": ".py",
   "mimetype": "text/x-python",
   "name": "python",
   "nbconvert_exporter": "python",
   "pygments_lexer": "ipython3",
   "version": "3.9.2"
  },
  "orig_nbformat": 4,
  "vscode": {
   "interpreter": {
    "hash": "31f2aee4e71d21fbe5cf8b01ff0e069b9275f58929596ceb00d14d90e3e16cd6"
   }
  }
 },
 "nbformat": 4,
 "nbformat_minor": 2
}
