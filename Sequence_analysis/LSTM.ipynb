{
 "cells": [
  {
   "cell_type": "code",
   "execution_count": 28,
   "id": "36f9a34d-483a-49e9-a604-811dc0129635",
   "metadata": {},
   "outputs": [],
   "source": [
    "import pickle\n",
    "import pandas as pd\n",
    "import numpy as np\n",
    "from sklearn.metrics.pairwise import cosine_similarity\n",
    "import tensorflow as tf\n",
    "from tensorflow.keras.models import Model\n",
    "from tensorflow.keras.layers import Input, Embedding, LSTM, Dense, Attention, GlobalAveragePooling1D\n",
    "from tensorflow.keras.preprocessing.sequence import pad_sequences\n"
   ]
  },
  {
   "cell_type": "code",
   "execution_count": 29,
   "id": "70b5777b-cf86-4487-abd4-aac36b669e3a",
   "metadata": {},
   "outputs": [],
   "source": [
    "# 配置全局参数\n",
    "vocab_size = 10000  # 假设电影ID的总数\n",
    "embedding_dim = 128  # 嵌入维度\n",
    "max_length = 10  # 序列最大长度\n",
    "lstm_units = 64\n"
   ]
  },
  {
   "cell_type": "code",
   "execution_count": 30,
   "id": "5ad0f6bd-f158-44f8-b1fc-a1e71f4c3099",
   "metadata": {},
   "outputs": [],
   "source": [
    "# 自定义注意力层\n",
    "class SelfAttention(tf.keras.layers.Layer):\n",
    "    def __init__(self, **kwargs):\n",
    "        super(SelfAttention, self).__init__(**kwargs)\n",
    "\n",
    "    def build(self, input_shape):\n",
    "        self.W = self.add_weight(name='attention_weight', shape=(input_shape[-1], 1),\n",
    "                                 initializer='random_normal', trainable=True)\n",
    "        self.b = self.add_weight(name='attention_bias', shape=(input_shape[1], 1),\n",
    "                                 initializer='zeros', trainable=True)\n",
    "        super(SelfAttention, self).build(input_shape)\n",
    "\n",
    "    def call(self, inputs):\n",
    "        e = tf.nn.tanh(tf.tensordot(inputs, self.W, axes=1) + self.b)\n",
    "        alpha = tf.nn.softmax(e, axis=1)\n",
    "        context = tf.reduce_sum(inputs * alpha, axis=1)\n",
    "        return context\n"
   ]
  },
  {
   "cell_type": "code",
   "execution_count": 31,
   "id": "af843583-6e0c-414a-9298-5835409d968a",
   "metadata": {},
   "outputs": [
    {
     "name": "stderr",
     "output_type": "stream",
     "text": [
      "/opt/conda/lib/python3.10/site-packages/keras/src/layers/core/embedding.py:90: UserWarning: Argument `input_length` is deprecated. Just remove it.\n",
      "  warnings.warn(\n"
     ]
    }
   ],
   "source": [
    "# 构建模型\n",
    "def create_model(vocab_size, embedding_dim, max_length, lstm_units):\n",
    "    input_seq = Input(shape=(max_length,))\n",
    "    embedding_layer = Embedding(input_dim=vocab_size, output_dim=embedding_dim, input_length=max_length)(input_seq)\n",
    "    lstm_layer = LSTM(lstm_units, return_sequences=True)(embedding_layer)\n",
    "    attention_layer = SelfAttention()(lstm_layer)\n",
    "    output_layer = Dense(lstm_units)(attention_layer)\n",
    "    model = Model(inputs=input_seq, outputs=output_layer)\n",
    "    return model\n",
    "\n",
    "# 创建模型\n",
    "model = create_model(vocab_size, embedding_dim, max_length, lstm_units)"
   ]
  },
  {
   "cell_type": "code",
   "execution_count": 32,
   "id": "e282c64b-9261-4b8a-84ea-215fd27508c3",
   "metadata": {},
   "outputs": [],
   "source": [
    "def load_data(file_path):\n",
    "    return pd.read_pickle(file_path)\n",
    "\n",
    "def load_movie_dict(item_file):\n",
    "    item_df = pd.read_csv(item_file, sep='|', header=None, encoding='latin-1', usecols=[0, 1])\n",
    "    item_df.columns = ['movie_id', 'movie_title']\n",
    "    movie_dict = dict(zip(item_df['movie_id'], item_df['movie_title']))\n",
    "    return movie_dict\n",
    "\n",
    "def map_movie_names_only(seq, movie_dict):\n",
    "    return [movie_dict[id] if id in movie_dict else id for (id, rating) in seq]\n",
    "\n",
    "def extract_sequences(df, movie_dict):\n",
    "    df['movie_names_only'] = df['seq'].apply(lambda x: map_movie_names_only(x, movie_dict))\n",
    "    df['seq_only'] = df['seq'].apply(lambda x: [id for (id, rating) in x])\n",
    "    return df\n"
   ]
  },
  {
   "cell_type": "code",
   "execution_count": 33,
   "id": "1904c2ba-8f25-49d9-83d1-782acbed1c96",
   "metadata": {},
   "outputs": [],
   "source": [
    "def get_movie_embeddings(sequences, model, max_length):\n",
    "    # 序列填充\n",
    "    sequences_padded = pad_sequences(sequences, maxlen=max_length, padding='post')\n",
    "    # 获取嵌入表示\n",
    "    embeddings = model.predict(sequences_padded)\n",
    "    return np.array(embeddings)\n",
    "\n",
    "def calculate_similarity(df, model, max_length):\n",
    "    sequences = df['seq_only'].tolist()\n",
    "    movie_embeddings = get_movie_embeddings(sequences, model, max_length)\n",
    "    df['movie_embeddings'] = list(movie_embeddings)\n",
    "    embeddings = np.stack(df['movie_embeddings'].values)\n",
    "    similarity_matrix = cosine_similarity(embeddings)\n",
    "    most_similar_indices = np.argmax(similarity_matrix - np.eye(len(similarity_matrix)), axis=1)\n",
    "    df['most_similar_seq_index'] = most_similar_indices\n",
    "    df['most_similar_seq'] = df['most_similar_seq_index'].apply(lambda idx: df.at[idx, 'seq'])\n",
    "    return df\n"
   ]
  },
  {
   "cell_type": "code",
   "execution_count": 34,
   "id": "5eddf26f-a9d8-404c-bf48-04d48456070b",
   "metadata": {},
   "outputs": [],
   "source": [
    "def add_most_similar_seq_next(df, movie_dict):\n",
    "    df['most_similar_seq_next'] = df['next'].iloc[df['most_similar_seq_index']].values\n",
    "    df['most_similar_seq_name'] = df['most_similar_seq'].apply(lambda x: [movie_dict.get(item[0], \"Unknown\") for item in x])\n",
    "    df['most_similar_seq_next_name'] = df['most_similar_seq_next'].apply(lambda x: movie_dict.get(x[0], \"Unknown\"))\n",
    "    return df\n",
    "\n",
    "def save_data(df, output_file_path):\n",
    "    df.to_pickle(output_file_path)\n"
   ]
  },
  {
   "cell_type": "code",
   "execution_count": 51,
   "id": "493988d4-5b17-427c-81f3-903ad48d192c",
   "metadata": {},
   "outputs": [
    {
     "name": "stdout",
     "output_type": "stream",
     "text": [
      "\u001b[1m3/3\u001b[0m \u001b[32m━━━━━━━━━━━━━━━━━━━━\u001b[0m\u001b[37m\u001b[0m \u001b[1m0s\u001b[0m 7ms/step \n"
     ]
    }
   ],
   "source": [
    "def process_data(file_path, item_file, output_file_path):\n",
    "    df = load_data(file_path)\n",
    "    movie_dict = load_movie_dict(item_file)\n",
    "    df = extract_sequences(df, movie_dict)\n",
    "    df = calculate_similarity(df, model, max_length)\n",
    "    df = add_most_similar_seq_next(df, movie_dict)\n",
    "    save_data(df, output_file_path)\n",
    "\n",
    "# 使用函数处理数据\n",
    "file_path = '/workspace/LLaRA/data/ref/movielens/Val_data.df'\n",
    "item_file = '/workspace/LLaRA/data/ref/movielens/u.item'\n",
    "output_file_path = '/workspace/LLaRA/data/ref/movielens/lstm_val_data.df'\n",
    "\n",
    "process_data(file_path, item_file, output_file_path)\n"
   ]
  },
  {
   "cell_type": "code",
   "execution_count": 36,
   "id": "888752e8-d5fc-4f4d-adc1-8bc64cfcded0",
   "metadata": {},
   "outputs": [],
   "source": [
    "df=pd.read_pickle('/workspace/LLaRA/data/ref/movielens/lstm_train_data.df')"
   ]
  },
  {
   "cell_type": "code",
   "execution_count": 37,
   "id": "a9e2fdc7-6ae6-4bd5-b75f-b9efad64d5d5",
   "metadata": {},
   "outputs": [
    {
     "data": {
      "text/html": [
       "<div>\n",
       "<style scoped>\n",
       "    .dataframe tbody tr th:only-of-type {\n",
       "        vertical-align: middle;\n",
       "    }\n",
       "\n",
       "    .dataframe tbody tr th {\n",
       "        vertical-align: top;\n",
       "    }\n",
       "\n",
       "    .dataframe thead th {\n",
       "        text-align: right;\n",
       "    }\n",
       "</style>\n",
       "<table border=\"1\" class=\"dataframe\">\n",
       "  <thead>\n",
       "    <tr style=\"text-align: right;\">\n",
       "      <th></th>\n",
       "      <th>seq</th>\n",
       "      <th>len_seq</th>\n",
       "      <th>next</th>\n",
       "      <th>movie_names_only</th>\n",
       "      <th>seq_only</th>\n",
       "      <th>movie_embeddings</th>\n",
       "      <th>most_similar_seq_index</th>\n",
       "      <th>most_similar_seq</th>\n",
       "      <th>most_similar_seq_next</th>\n",
       "      <th>most_similar_seq_name</th>\n",
       "      <th>most_similar_seq_next_name</th>\n",
       "    </tr>\n",
       "  </thead>\n",
       "  <tbody>\n",
       "    <tr>\n",
       "      <th>0</th>\n",
       "      <td>[(1682, 0), (1682, 0), (1682, 0), (1682, 0), (...</td>\n",
       "      <td>1</td>\n",
       "      <td>(299, 5)</td>\n",
       "      <td>[Scream of Stone (Schrei aus Stein) (1991), Sc...</td>\n",
       "      <td>[1682, 1682, 1682, 1682, 1682, 1682, 1682, 168...</td>\n",
       "      <td>[-0.0123769175, 0.011153697, 0.0014485666, 0.0...</td>\n",
       "      <td>798</td>\n",
       "      <td>[(1682, 0), (1682, 0), (1682, 0), (1682, 0), (...</td>\n",
       "      <td>(303, 5)</td>\n",
       "      <td>[Scream of Stone (Schrei aus Stein) (1991), Sc...</td>\n",
       "      <td>Ulee's Gold (1997)</td>\n",
       "    </tr>\n",
       "    <tr>\n",
       "      <th>1</th>\n",
       "      <td>[(299, 5), (1682, 0), (1682, 0), (1682, 0), (1...</td>\n",
       "      <td>1</td>\n",
       "      <td>(321, 5)</td>\n",
       "      <td>[Hoodlum (1997), Scream of Stone (Schrei aus S...</td>\n",
       "      <td>[299, 1682, 1682, 1682, 1682, 1682, 1682, 1682...</td>\n",
       "      <td>[-0.011450895, 0.0058849547, 0.0026951947, 0.0...</td>\n",
       "      <td>1003</td>\n",
       "      <td>[(299, 4), (1682, 0), (1682, 0), (1682, 0), (1...</td>\n",
       "      <td>(22, 5)</td>\n",
       "      <td>[Hoodlum (1997), Scream of Stone (Schrei aus S...</td>\n",
       "      <td>Braveheart (1995)</td>\n",
       "    </tr>\n",
       "    <tr>\n",
       "      <th>2</th>\n",
       "      <td>[(299, 5), (321, 5), (1682, 0), (1682, 0), (16...</td>\n",
       "      <td>2</td>\n",
       "      <td>(290, 4)</td>\n",
       "      <td>[Hoodlum (1997), Mother (1996), Scream of Ston...</td>\n",
       "      <td>[299, 321, 1682, 1682, 1682, 1682, 1682, 1682,...</td>\n",
       "      <td>[-0.005407514, 0.008567907, 0.0028236068, 0.01...</td>\n",
       "      <td>48729</td>\n",
       "      <td>[(299, 4), (321, 3), (1682, 0), (1682, 0), (16...</td>\n",
       "      <td>(258, 3)</td>\n",
       "      <td>[Hoodlum (1997), Mother (1996), Scream of Ston...</td>\n",
       "      <td>Contact (1997)</td>\n",
       "    </tr>\n",
       "    <tr>\n",
       "      <th>3</th>\n",
       "      <td>[(299, 5), (321, 5), (290, 4), (1682, 0), (168...</td>\n",
       "      <td>3</td>\n",
       "      <td>(297, 3)</td>\n",
       "      <td>[Hoodlum (1997), Mother (1996), Fierce Creatur...</td>\n",
       "      <td>[299, 321, 290, 1682, 1682, 1682, 1682, 1682, ...</td>\n",
       "      <td>[-0.0048835003, 0.0066323597, 0.0013526137, 0....</td>\n",
       "      <td>48729</td>\n",
       "      <td>[(299, 4), (321, 3), (1682, 0), (1682, 0), (16...</td>\n",
       "      <td>(258, 3)</td>\n",
       "      <td>[Hoodlum (1997), Mother (1996), Scream of Ston...</td>\n",
       "      <td>Contact (1997)</td>\n",
       "    </tr>\n",
       "    <tr>\n",
       "      <th>4</th>\n",
       "      <td>[(299, 5), (321, 5), (290, 4), (297, 3), (1682...</td>\n",
       "      <td>4</td>\n",
       "      <td>(590, 4)</td>\n",
       "      <td>[Hoodlum (1997), Mother (1996), Fierce Creatur...</td>\n",
       "      <td>[299, 321, 290, 297, 1682, 1682, 1682, 1682, 1...</td>\n",
       "      <td>[-0.0025054945, 0.0028942805, 0.0025338004, 0....</td>\n",
       "      <td>5</td>\n",
       "      <td>[(299, 5), (321, 5), (290, 4), (297, 3), (590,...</td>\n",
       "      <td>(741, 3)</td>\n",
       "      <td>[Hoodlum (1997), Mother (1996), Fierce Creatur...</td>\n",
       "      <td>Last Supper, The (1995)</td>\n",
       "    </tr>\n",
       "  </tbody>\n",
       "</table>\n",
       "</div>"
      ],
      "text/plain": [
       "                                                 seq  len_seq      next  \\\n",
       "0  [(1682, 0), (1682, 0), (1682, 0), (1682, 0), (...        1  (299, 5)   \n",
       "1  [(299, 5), (1682, 0), (1682, 0), (1682, 0), (1...        1  (321, 5)   \n",
       "2  [(299, 5), (321, 5), (1682, 0), (1682, 0), (16...        2  (290, 4)   \n",
       "3  [(299, 5), (321, 5), (290, 4), (1682, 0), (168...        3  (297, 3)   \n",
       "4  [(299, 5), (321, 5), (290, 4), (297, 3), (1682...        4  (590, 4)   \n",
       "\n",
       "                                    movie_names_only  \\\n",
       "0  [Scream of Stone (Schrei aus Stein) (1991), Sc...   \n",
       "1  [Hoodlum (1997), Scream of Stone (Schrei aus S...   \n",
       "2  [Hoodlum (1997), Mother (1996), Scream of Ston...   \n",
       "3  [Hoodlum (1997), Mother (1996), Fierce Creatur...   \n",
       "4  [Hoodlum (1997), Mother (1996), Fierce Creatur...   \n",
       "\n",
       "                                            seq_only  \\\n",
       "0  [1682, 1682, 1682, 1682, 1682, 1682, 1682, 168...   \n",
       "1  [299, 1682, 1682, 1682, 1682, 1682, 1682, 1682...   \n",
       "2  [299, 321, 1682, 1682, 1682, 1682, 1682, 1682,...   \n",
       "3  [299, 321, 290, 1682, 1682, 1682, 1682, 1682, ...   \n",
       "4  [299, 321, 290, 297, 1682, 1682, 1682, 1682, 1...   \n",
       "\n",
       "                                    movie_embeddings  most_similar_seq_index  \\\n",
       "0  [-0.0123769175, 0.011153697, 0.0014485666, 0.0...                     798   \n",
       "1  [-0.011450895, 0.0058849547, 0.0026951947, 0.0...                    1003   \n",
       "2  [-0.005407514, 0.008567907, 0.0028236068, 0.01...                   48729   \n",
       "3  [-0.0048835003, 0.0066323597, 0.0013526137, 0....                   48729   \n",
       "4  [-0.0025054945, 0.0028942805, 0.0025338004, 0....                       5   \n",
       "\n",
       "                                    most_similar_seq most_similar_seq_next  \\\n",
       "0  [(1682, 0), (1682, 0), (1682, 0), (1682, 0), (...              (303, 5)   \n",
       "1  [(299, 4), (1682, 0), (1682, 0), (1682, 0), (1...               (22, 5)   \n",
       "2  [(299, 4), (321, 3), (1682, 0), (1682, 0), (16...              (258, 3)   \n",
       "3  [(299, 4), (321, 3), (1682, 0), (1682, 0), (16...              (258, 3)   \n",
       "4  [(299, 5), (321, 5), (290, 4), (297, 3), (590,...              (741, 3)   \n",
       "\n",
       "                               most_similar_seq_name  \\\n",
       "0  [Scream of Stone (Schrei aus Stein) (1991), Sc...   \n",
       "1  [Hoodlum (1997), Scream of Stone (Schrei aus S...   \n",
       "2  [Hoodlum (1997), Mother (1996), Scream of Ston...   \n",
       "3  [Hoodlum (1997), Mother (1996), Scream of Ston...   \n",
       "4  [Hoodlum (1997), Mother (1996), Fierce Creatur...   \n",
       "\n",
       "  most_similar_seq_next_name  \n",
       "0         Ulee's Gold (1997)  \n",
       "1          Braveheart (1995)  \n",
       "2             Contact (1997)  \n",
       "3             Contact (1997)  \n",
       "4    Last Supper, The (1995)  "
      ]
     },
     "execution_count": 37,
     "metadata": {},
     "output_type": "execute_result"
    }
   ],
   "source": [
    "df.head()"
   ]
  },
  {
   "cell_type": "code",
   "execution_count": 45,
   "id": "4951ae52-eb8d-4e55-baed-d5d2cd3f1e34",
   "metadata": {},
   "outputs": [
    {
     "data": {
      "text/plain": [
       "['Short Cuts (1993)',\n",
       " \"Carlito's Way (1993)\",\n",
       " \"Weekend at Bernie's (1989)\",\n",
       " 'Nadja (1994)',\n",
       " 'Fearless (1993)',\n",
       " 'Flesh and Bone (1993)',\n",
       " 'Naked Gun 33 1/3: The Final Insult (1994)',\n",
       " 'Funeral, The (1996)',\n",
       " 'Rob Roy (1995)',\n",
       " \"Wes Craven's New Nightmare (1994)\"]"
      ]
     },
     "execution_count": 45,
     "metadata": {},
     "output_type": "execute_result"
    }
   ],
   "source": [
    "df['movie_names_only'][40]"
   ]
  },
  {
   "cell_type": "code",
   "execution_count": 47,
   "id": "f4e9d623-b4b7-42b9-9e05-111d3fac0257",
   "metadata": {},
   "outputs": [
    {
     "data": {
      "text/plain": [
       "(539, 4)"
      ]
     },
     "execution_count": 47,
     "metadata": {},
     "output_type": "execute_result"
    }
   ],
   "source": [
    "df['next'][40]"
   ]
  },
  {
   "cell_type": "code",
   "execution_count": 48,
   "id": "42e9d611-bedd-4fd2-ac70-ac71791e7895",
   "metadata": {},
   "outputs": [
    {
     "data": {
      "text/plain": [
       "'Donnie Brasco (1997)'"
      ]
     },
     "execution_count": 48,
     "metadata": {},
     "output_type": "execute_result"
    }
   ],
   "source": [
    "df['most_similar_seq_next_name'][40]"
   ]
  },
  {
   "cell_type": "code",
   "execution_count": 46,
   "id": "9c651cec-6bad-48fb-89d8-9520c373d05d",
   "metadata": {},
   "outputs": [
    {
     "data": {
      "text/plain": [
       "[\"Carlito's Way (1993)\",\n",
       " \"Weekend at Bernie's (1989)\",\n",
       " 'Nadja (1994)',\n",
       " 'Fearless (1993)',\n",
       " 'Flesh and Bone (1993)',\n",
       " 'Naked Gun 33 1/3: The Final Insult (1994)',\n",
       " 'Funeral, The (1996)',\n",
       " 'Rob Roy (1995)',\n",
       " \"Wes Craven's New Nightmare (1994)\",\n",
       " 'Mouse Hunt (1997)']"
      ]
     },
     "execution_count": 46,
     "metadata": {},
     "output_type": "execute_result"
    }
   ],
   "source": [
    "df['most_similar_seq_name'][40]"
   ]
  },
  {
   "cell_type": "code",
   "execution_count": null,
   "id": "0b1d70c4-c92d-40b7-b2d8-af6a7465c8ce",
   "metadata": {},
   "outputs": [],
   "source": []
  }
 ],
 "metadata": {
  "kernelspec": {
   "display_name": "Python 3 (ipykernel)",
   "language": "python",
   "name": "python3"
  },
  "language_info": {
   "codemirror_mode": {
    "name": "ipython",
    "version": 3
   },
   "file_extension": ".py",
   "mimetype": "text/x-python",
   "name": "python",
   "nbconvert_exporter": "python",
   "pygments_lexer": "ipython3",
   "version": "3.10.9"
  }
 },
 "nbformat": 4,
 "nbformat_minor": 5
}
